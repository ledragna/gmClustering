{
 "cells": [
  {
   "cell_type": "markdown",
   "metadata": {},
   "source": [
    "# PAM test"
   ]
  },
  {
   "cell_type": "code",
   "execution_count": 1,
   "metadata": {},
   "outputs": [],
   "source": [
    "import numpy as np\n",
    "import scipy as sp\n",
    "import sys\n",
    "from sklearn.cluster import KMeans as sKMeans\n",
    "from sklearn_extra.cluster import KMedoids\n",
    "from math import atan2, cos, sin, sqrt\n",
    "import matplotlib.pyplot as plt\n",
    "from random import sample\n",
    "import seaborn as sns\n",
    "import random\n",
    "\n",
    "%matplotlib inline\n",
    "%load_ext autoreload"
   ]
  },
  {
   "cell_type": "code",
   "execution_count": 2,
   "metadata": {},
   "outputs": [],
   "source": [
    "sys.path.append(\"/home/gmancini/Dropbox/appunti/Clustering/src\")\n",
    "import mdutils\n",
    "import myclusters\n",
    "import myvalidation\n",
    "%autoreload 2"
   ]
  },
  {
   "cell_type": "markdown",
   "metadata": {},
   "source": [
    "use distance of cities in the U. S. as reference dataset; convert coordinates to distances."
   ]
  },
  {
   "cell_type": "code",
   "execution_count": 3,
   "metadata": {},
   "outputs": [],
   "source": [
    "def distance(coord0,coord1,radius=6373.0):\n",
    "    dlon = coord1[1] - coord0[1]\n",
    "    dlat = coord1[0] - coord0[0]\n",
    "\n",
    "    a = sin(dlat / 2)**2 + cos(coord0[0]) * cos(coord1[0]) * sin(dlon / 2)**2\n",
    "    c = 2 * atan2(sqrt(a), sqrt(1 - a))\n",
    "\n",
    "    distance = radius * c"
   ]
  },
  {
   "cell_type": "markdown",
   "metadata": {},
   "source": [
    "#### load data for US cities"
   ]
  },
  {
   "cell_type": "code",
   "execution_count": 4,
   "metadata": {},
   "outputs": [
    {
     "data": {
      "text/plain": [
       "(300, 2)"
      ]
     },
     "execution_count": 4,
     "metadata": {},
     "output_type": "execute_result"
    }
   ],
   "source": [
    "import csv\n",
    "ifile = open(\"places.txt\")\n",
    "places = csv.reader(ifile)\n",
    "data = np.empty((300,2))\n",
    "for i,city in enumerate(places):\n",
    "    data[i] = city\n",
    "nplaces = data.shape[0]\n",
    "data.shape"
   ]
  },
  {
   "cell_type": "code",
   "execution_count": 5,
   "metadata": {},
   "outputs": [],
   "source": [
    "#convert to radians\n",
    "coords = (np.pi/180.)*data"
   ]
  },
  {
   "cell_type": "code",
   "execution_count": 6,
   "metadata": {},
   "outputs": [
    {
     "data": {
      "text/plain": [
       "(33.429424, 43.5093982, 0.5834535158452129, 0.7593822541512942)"
      ]
     },
     "execution_count": 6,
     "metadata": {},
     "output_type": "execute_result"
    }
   ],
   "source": [
    "np.min(data[:,1]),np.max(data[:,1]),np.min(coords[:,1]),np.max(coords[:,1])"
   ]
  },
  {
   "cell_type": "markdown",
   "metadata": {},
   "source": [
    "#### convert latitude / longitude to kilometric distances"
   ]
  },
  {
   "cell_type": "code",
   "execution_count": 7,
   "metadata": {},
   "outputs": [],
   "source": [
    "distances = np.zeros((nplaces,nplaces))\n",
    "for i in range(nplaces-1):\n",
    "    for j in range(i+1,nplaces):\n",
    "        distances[i,j] = distance(coords[i],coords[j])\n",
    "        distances[j,i] = distances[i,j]"
   ]
  },
  {
   "cell_type": "markdown",
   "metadata": {},
   "source": [
    "## settings"
   ]
  },
  {
   "cell_type": "code",
   "execution_count": 8,
   "metadata": {},
   "outputs": [],
   "source": [
    "nclusters = 3\n",
    "niter = 500\n",
    "metric = 'euclidean'"
   ]
  },
  {
   "cell_type": "markdown",
   "metadata": {},
   "source": [
    "## PAM"
   ]
  },
  {
   "cell_type": "code",
   "execution_count": 9,
   "metadata": {},
   "outputs": [
    {
     "name": "stdout",
     "output_type": "stream",
     "text": [
      "('inertia and medoids b4 swap', 16.954711403088062, [18, 109, 119])\n"
     ]
    },
    {
     "data": {
      "text/plain": [
       "(16.954711403088062, [18, 109, 119], 501, 502)"
      ]
     },
     "execution_count": 9,
     "metadata": {},
     "output_type": "execute_result"
    }
   ],
   "source": [
    "my_estimator = myclusters.PAM(K=nclusters,niter=niter,metric=metric)\n",
    "cost, medoids = my_estimator.do_clustering(X=data,medbuild=True)\n",
    "cost, medoids, my_estimator.nstep, my_estimator.nswap"
   ]
  },
  {
   "cell_type": "code",
   "execution_count": 10,
   "metadata": {},
   "outputs": [
    {
     "data": {
      "text/plain": [
       "array([[ -80.968306 ,   35.283424 ],\n",
       "       [-112.070655 ,   33.4555253],\n",
       "       [ -80.528095 ,   43.474541 ]])"
      ]
     },
     "execution_count": 10,
     "metadata": {},
     "output_type": "execute_result"
    }
   ],
   "source": [
    "data[my_estimator.medoids]"
   ]
  },
  {
   "cell_type": "code",
   "execution_count": 11,
   "metadata": {},
   "outputs": [
    {
     "data": {
      "text/plain": [
       "array([109, 109, 109, 109, 119, 119,  18, 109, 109,  18, 109,  18, 119,\n",
       "       109,  18,  18,  18, 109,  18, 119, 119, 119, 119,  18, 109, 119,\n",
       "       109, 119, 109, 109, 119,  18, 109, 109, 109,  18, 119, 109, 119,\n",
       "        18,  18,  18,  18,  18,  18, 119, 109,  18, 109, 109, 119,  18,\n",
       "       109,  18, 119,  18, 109,  18, 119,  18, 109, 119,  18, 109, 119,\n",
       "        18,  18, 109, 119,  18, 119, 109,  18, 119, 109, 109, 109,  18,\n",
       "       119, 109, 109,  18, 109, 119, 109, 109, 119, 109, 119, 109, 119,\n",
       "       119, 109, 119, 119, 119,  18,  18, 109, 109, 109, 119, 109, 109,\n",
       "        18,  18, 109, 119, 109, 109, 119,  18, 109, 119, 109, 109, 119,\n",
       "       109, 119, 119,  18,  18, 109, 119,  18, 119,  18, 119,  18, 119,\n",
       "        18, 119,  18, 109, 109, 119, 119, 109, 109, 119,  18,  18, 109,\n",
       "       119,  18,  18,  18, 109,  18,  18, 119,  18,  18, 119, 119, 119,\n",
       "       119, 119,  18,  18, 119, 109, 119, 109,  18, 119, 119, 119, 119,\n",
       "       119, 119, 109, 109,  18,  18, 109, 119,  18,  18, 119, 109, 119,\n",
       "        18,  18, 119,  18,  18, 119, 109, 119,  18,  18, 109, 109, 109,\n",
       "        18, 109, 109,  18, 109, 119, 109,  18, 109, 119,  18, 109, 119,\n",
       "        18,  18, 119,  18,  18, 109, 119, 119, 109, 119, 109, 119, 109,\n",
       "       119, 119, 119,  18,  18,  18, 109,  18, 109, 109,  18,  18, 119,\n",
       "       119,  18, 109,  18, 109,  18, 109, 109,  18,  18,  18,  18,  18,\n",
       "        18,  18, 109,  18,  18, 119, 119, 119, 119,  18, 109,  18, 109,\n",
       "       119, 109,  18, 119, 119, 109, 119, 109, 119, 109, 119,  18, 109,\n",
       "        18, 119, 119, 109, 109, 119, 119,  18,  18,  18,  18, 119, 119,\n",
       "        18, 119, 119, 109, 119, 109,  18, 109, 119, 109, 109, 109, 119,\n",
       "       109])"
      ]
     },
     "execution_count": 11,
     "metadata": {},
     "output_type": "execute_result"
    }
   ],
   "source": [
    "my_estimator.clusters"
   ]
  },
  {
   "cell_type": "code",
   "execution_count": 12,
   "metadata": {},
   "outputs": [
    {
     "data": {
      "text/plain": [
       "array([4.11623557e+07, 2.57567978e-01])"
      ]
     },
     "execution_count": 12,
     "metadata": {},
     "output_type": "execute_result"
    }
   ],
   "source": [
    "myeval = myvalidation.cluster_eval(clusters=my_estimator.clusters,X=data,metric=metric)\n",
    "myeval(method=\"CH\")"
   ]
  },
  {
   "cell_type": "markdown",
   "metadata": {},
   "source": [
    "## test 2"
   ]
  },
  {
   "cell_type": "code",
   "execution_count": 13,
   "metadata": {},
   "outputs": [],
   "source": [
    "def init_board_gauss(N, k):\n",
    "    n = float(N)/k\n",
    "    X = []\n",
    "    for i in range(k):\n",
    "        c = (random.uniform(-1,1), random.uniform(-1,1))\n",
    "        s = random.uniform(0.05,0.15)\n",
    "        x = []\n",
    "        while len(x) < n:\n",
    "            a,b = np.array([np.random.normal(c[0],s),np.random.normal(c[1],s)])\n",
    "            if abs(a) and abs(b)<1:\n",
    "                x.append([a,b])\n",
    "        X.extend(x)\n",
    "    X = np.array(X)[:N]\n",
    "    return X"
   ]
  },
  {
   "cell_type": "code",
   "execution_count": 14,
   "metadata": {},
   "outputs": [],
   "source": [
    "np.random.seed(0)\n",
    "random.seed(0)\n",
    "data = init_board_gauss(2500,10)"
   ]
  },
  {
   "cell_type": "code",
   "execution_count": 15,
   "metadata": {},
   "outputs": [
    {
     "data": {
      "text/plain": [
       "<matplotlib.collections.PathCollection at 0x7fe11d5e1a90>"
      ]
     },
     "execution_count": 15,
     "metadata": {},
     "output_type": "execute_result"
    },
    {
     "data": {
      "image/png": "[encoded data removed]",
      "text/plain": [
       "<Figure size 432x288 with 1 Axes>"
      ]
     },
     "metadata": {
      "needs_background": "light"
     },
     "output_type": "display_data"
    }
   ],
   "source": [
    "x = data[:,0]\n",
    "y = data[:,1]\n",
    "plt.scatter(x,y)"
   ]
  },
  {
   "cell_type": "code",
   "execution_count": null,
   "metadata": {},
   "outputs": [
    {
     "name": "stdout",
     "output_type": "stream",
     "text": [
      "2 [[0.85123735 0.55274614]\n",
      " [0.77894354 0.72219907]\n",
      " [0.86076578 0.42594338]\n",
      " ...\n",
      " [0.16944407 0.49570615]\n",
      " [0.11027146 0.9925048 ]\n",
      " [0.31456336 0.9219181 ]]\n"
     ]
    }
   ],
   "source": [
    "for k in range(2,15):\n",
    "    print(k,data)\n",
    "    my_estimator = myclusters.PAM(K=k,metric=metric)\n",
    "    my_estimator.do_clustering(X=data,medbuild=True)\n",
    "    print(my_estimator.nswap,my_estimator.nstep)"
   ]
  },
  {
   "cell_type": "code",
   "execution_count": null,
   "metadata": {},
   "outputs": [],
   "source": []
  }
 ],
 "metadata": {
  "kernelspec": {
   "display_name": "Python 3",
   "language": "python",
   "name": "python3"
  },
  "language_info": {
   "codemirror_mode": {
    "name": "ipython",
    "version": 3
   },
   "file_extension": ".py",
   "mimetype": "text/x-python",
   "name": "python",
   "nbconvert_exporter": "python",
   "pygments_lexer": "ipython3",
   "version": "3.8.2"
  }
 },
 "nbformat": 4,
 "nbformat_minor": 2
}
