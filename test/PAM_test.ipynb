{
 "cells": [
  {
   "cell_type": "markdown",
   "metadata": {},
   "source": [
    "# PAM test"
   ]
  },
  {
   "cell_type": "code",
   "execution_count": 1,
   "metadata": {},
   "outputs": [],
   "source": [
    "import numpy as np\n",
    "import scipy as sp\n",
    "import sys\n",
    "from sklearn.cluster import KMeans as sKMeans\n",
    "from sklearn_extra.cluster import KMedoids\n",
    "from math import atan2, cos, sin, sqrt\n",
    "import matplotlib.pyplot as plt\n",
    "from random import sample\n",
    "import seaborn as sns\n",
    "\n",
    "%matplotlib inline\n",
    "%load_ext autoreload"
   ]
  },
  {
   "cell_type": "code",
   "execution_count": 2,
   "metadata": {},
   "outputs": [],
   "source": [
    "sys.path.append(\"/home/gmancini/Dropbox/appunti/Clustering/src\")\n",
    "import mdutils\n",
    "import myclusters\n",
    "import myvalidation\n",
    "%autoreload 2"
   ]
  },
  {
   "cell_type": "markdown",
   "metadata": {},
   "source": [
    "use distance of cities in the U. S. as reference dataset; convert coordinates to distances."
   ]
  },
  {
   "cell_type": "code",
   "execution_count": 3,
   "metadata": {},
   "outputs": [],
   "source": [
    "def distance(coord0,coord1,radius=6373.0):\n",
    "    dlon = coord1[1] - coord0[1]\n",
    "    dlat = coord1[0] - coord0[0]\n",
    "\n",
    "    a = sin(dlat / 2)**2 + cos(coord0[0]) * cos(coord1[0]) * sin(dlon / 2)**2\n",
    "    c = 2 * atan2(sqrt(a), sqrt(1 - a))\n",
    "\n",
    "    distance = radius * c"
   ]
  },
  {
   "cell_type": "markdown",
   "metadata": {},
   "source": [
    "#### load data for US cities"
   ]
  },
  {
   "cell_type": "code",
   "execution_count": 4,
   "metadata": {},
   "outputs": [
    {
     "data": {
      "text/plain": [
       "(300, 2)"
      ]
     },
     "execution_count": 4,
     "metadata": {},
     "output_type": "execute_result"
    }
   ],
   "source": [
    "import csv\n",
    "ifile = open(\"places.txt\")\n",
    "places = csv.reader(ifile)\n",
    "data = np.empty((300,2))\n",
    "for i,city in enumerate(places):\n",
    "    data[i] = city\n",
    "nplaces = data.shape[0]\n",
    "data.shape"
   ]
  },
  {
   "cell_type": "code",
   "execution_count": 5,
   "metadata": {},
   "outputs": [],
   "source": [
    "#convert to radians\n",
    "coords = (np.pi/180.)*data"
   ]
  },
  {
   "cell_type": "code",
   "execution_count": 6,
   "metadata": {},
   "outputs": [
    {
     "data": {
      "text/plain": [
       "(33.429424, 43.5093982, 0.5834535158452129, 0.7593822541512942)"
      ]
     },
     "execution_count": 6,
     "metadata": {},
     "output_type": "execute_result"
    }
   ],
   "source": [
    "np.min(data[:,1]),np.max(data[:,1]),np.min(coords[:,1]),np.max(coords[:,1])"
   ]
  },
  {
   "cell_type": "markdown",
   "metadata": {},
   "source": [
    "#### convert latitude / longitude to kilometric distances"
   ]
  },
  {
   "cell_type": "code",
   "execution_count": 7,
   "metadata": {},
   "outputs": [],
   "source": [
    "distances = np.zeros((nplaces,nplaces))\n",
    "for i in range(nplaces-1):\n",
    "    for j in range(i+1,nplaces):\n",
    "        distances[i,j] = distance(coords[i],coords[j])\n",
    "        distances[j,i] = distances[i,j]"
   ]
  },
  {
   "cell_type": "markdown",
   "metadata": {},
   "source": [
    "## settings"
   ]
  },
  {
   "cell_type": "code",
   "execution_count": 8,
   "metadata": {},
   "outputs": [],
   "source": [
    "nclusters = 3\n",
    "niter = 500\n",
    "metric = 'cityblock'"
   ]
  },
  {
   "cell_type": "code",
   "execution_count": 9,
   "metadata": {},
   "outputs": [
    {
     "data": {
      "text/plain": [
       "(300, 2)"
      ]
     },
     "execution_count": 9,
     "metadata": {},
     "output_type": "execute_result"
    }
   ],
   "source": [
    "data.shape"
   ]
  },
  {
   "cell_type": "code",
   "execution_count": 10,
   "metadata": {},
   "outputs": [
    {
     "data": {
      "text/plain": [
       "196"
      ]
     },
     "execution_count": 10,
     "metadata": {},
     "output_type": "execute_result"
    }
   ],
   "source": [
    "np.argmin(data)"
   ]
  },
  {
   "cell_type": "code",
   "execution_count": 11,
   "metadata": {},
   "outputs": [
    {
     "data": {
      "text/plain": [
       "(array([-112.06649  ,   33.4667869]), -112.0996404)"
      ]
     },
     "execution_count": 11,
     "metadata": {},
     "output_type": "execute_result"
    }
   ],
   "source": [
    "data[196],data[98,0]"
   ]
  },
  {
   "cell_type": "code",
   "execution_count": 12,
   "metadata": {},
   "outputs": [
    {
     "data": {
      "text/plain": [
       "array([98])"
      ]
     },
     "execution_count": 12,
     "metadata": {},
     "output_type": "execute_result"
    }
   ],
   "source": [
    "np.where(data==np.amin(data))[0]"
   ]
  },
  {
   "cell_type": "markdown",
   "metadata": {},
   "source": [
    "## PAM"
   ]
  },
  {
   "cell_type": "code",
   "execution_count": 13,
   "metadata": {},
   "outputs": [
    {
     "name": "stdout",
     "output_type": "stream",
     "text": [
      "WARNING: still testing this method\n",
      "([235, 133], 133, -1)\n",
      "([235, 133, 61], 61, -1)\n",
      "2.6831551e-316\n"
     ]
    },
    {
     "data": {
      "text/plain": [
       "(16627.11196, [235, 133, 61], 0, 0)"
      ]
     },
     "execution_count": 13,
     "metadata": {},
     "output_type": "execute_result"
    }
   ],
   "source": [
    "my_estimator = myclusters.PAM(K=nclusters,niter=niter,metric=metric)\n",
    "cost, medoids = my_estimator.do_clustering(X=data)\n",
    "cost, medoids, my_estimator.nstep, my_estimator.nswap"
   ]
  },
  {
   "cell_type": "code",
   "execution_count": 16,
   "metadata": {},
   "outputs": [
    {
     "data": {
      "text/plain": [
       "array([[ -80.843784 ,   35.2275289],\n",
       "       [-112.0737923,   33.4568607],\n",
       "       [ -80.5243892,   43.4752375]])"
      ]
     },
     "execution_count": 16,
     "metadata": {},
     "output_type": "execute_result"
    }
   ],
   "source": [
    "data[my_estimator.medoids]"
   ]
  },
  {
   "cell_type": "code",
   "execution_count": 14,
   "metadata": {},
   "outputs": [
    {
     "data": {
      "text/plain": [
       "array([133, 133, 133, 133,  61,  61, 235, 133, 133, 235, 133, 235,  61,\n",
       "       133, 235, 235, 235, 133, 235,  61,  61,  61,  61, 235, 133,  61,\n",
       "       133,  61, 133, 133,  61, 235, 133, 133, 133, 235,  61, 133,  61,\n",
       "       235, 235, 235, 235, 235, 235,  61, 133, 235, 133, 133,  61, 235,\n",
       "       133, 235,  61, 235, 133, 235,  61, 235, 133,  61, 235, 133,  61,\n",
       "       235, 235, 133,  61, 235,  61, 133, 235,  61, 133, 133, 133, 235,\n",
       "        61, 133, 133, 235, 133,  61, 133, 133,  61, 133,  61, 133,  61,\n",
       "        61, 133,  61,  61,  61, 235, 235, 133, 133, 133,  61, 133, 133,\n",
       "       235, 235, 133,  61, 133, 133,  61, 235, 133,  61, 133, 133,  61,\n",
       "       133,  61,  61, 235, 235, 133,  61, 235,  61, 235,  61, 235,  61,\n",
       "       235,  61, 235, 133, 133,  61,  61, 133, 133,  61, 235, 235, 133,\n",
       "        61, 235, 235, 235, 133, 235, 235,  61, 235, 235,  61,  61,  61,\n",
       "        61,  61, 235, 235,  61, 133,  61, 133, 235,  61,  61,  61,  61,\n",
       "        61,  61, 133, 133, 235, 235, 133,  61, 235, 235,  61, 133,  61,\n",
       "       235, 235,  61, 235, 235,  61, 133,  61, 235, 235, 133, 133, 133,\n",
       "       235, 133, 133, 235, 133,  61, 133, 235, 133,  61, 235, 133,  61,\n",
       "       235, 235,  61, 235, 235, 133,  61,  61, 133,  61, 133,  61, 133,\n",
       "        61,  61,  61, 235, 235, 235, 133, 235, 133, 133, 235, 235,  61,\n",
       "        61, 235, 133, 235, 133, 235, 133, 133, 235, 235, 235, 235, 235,\n",
       "       235, 235, 133, 235, 235,  61,  61,  61,  61, 235, 133, 235, 133,\n",
       "        61, 133, 235,  61,  61, 133,  61, 133,  61, 133,  61, 235, 133,\n",
       "       235,  61,  61, 133, 133,  61,  61, 235, 235, 235, 235,  61,  61,\n",
       "       235,  61,  61, 133,  61, 133, 235, 133,  61, 133, 133, 133,  61,\n",
       "       133])"
      ]
     },
     "execution_count": 14,
     "metadata": {},
     "output_type": "execute_result"
    }
   ],
   "source": [
    "my_estimator.clusters"
   ]
  }
 ],
 "metadata": {
  "kernelspec": {
   "display_name": "Python 3",
   "language": "python",
   "name": "python3"
  },
  "language_info": {
   "codemirror_mode": {
    "name": "ipython",
    "version": 3
   },
   "file_extension": ".py",
   "mimetype": "text/x-python",
   "name": "python",
   "nbconvert_exporter": "python",
   "pygments_lexer": "ipython3",
   "version": "3.7.5"
  }
 },
 "nbformat": 4,
 "nbformat_minor": 2
}
