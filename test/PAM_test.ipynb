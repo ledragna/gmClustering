{
 "cells": [
  {
   "cell_type": "markdown",
   "metadata": {},
   "source": [
    "# PAM test"
   ]
  },
  {
   "cell_type": "code",
   "execution_count": 1,
   "metadata": {},
   "outputs": [],
   "source": [
    "import numpy as np\n",
    "import scipy as sp\n",
    "import sys\n",
    "from sklearn.cluster import KMeans as sKMeans\n",
    "from sklearn_extra.cluster import KMedoids\n",
    "from math import atan2, cos, sin, sqrt\n",
    "import matplotlib.pyplot as plt\n",
    "from random import sample\n",
    "import seaborn as sns\n",
    "\n",
    "%matplotlib inline\n",
    "%load_ext autoreload"
   ]
  },
  {
   "cell_type": "code",
   "execution_count": 2,
   "metadata": {},
   "outputs": [],
   "source": [
    "sys.path.append(\"/home/gmancini/Dropbox/appunti/Clustering/src\")\n",
    "import mdutils\n",
    "import myclusters\n",
    "import myvalidation\n",
    "%autoreload 2"
   ]
  },
  {
   "cell_type": "markdown",
   "metadata": {},
   "source": [
    "use distance of cities in the U. S. as reference dataset; convert coordinates to distances."
   ]
  },
  {
   "cell_type": "code",
   "execution_count": 3,
   "metadata": {},
   "outputs": [],
   "source": [
    "def distance(coord0,coord1,radius=6373.0):\n",
    "    dlon = coord1[1] - coord0[1]\n",
    "    dlat = coord1[0] - coord0[0]\n",
    "\n",
    "    a = sin(dlat / 2)**2 + cos(coord0[0]) * cos(coord1[0]) * sin(dlon / 2)**2\n",
    "    c = 2 * atan2(sqrt(a), sqrt(1 - a))\n",
    "\n",
    "    distance = radius * c"
   ]
  },
  {
   "cell_type": "markdown",
   "metadata": {},
   "source": [
    "#### load data for US cities"
   ]
  },
  {
   "cell_type": "code",
   "execution_count": 4,
   "metadata": {},
   "outputs": [
    {
     "data": {
      "text/plain": [
       "(300, 2)"
      ]
     },
     "execution_count": 4,
     "metadata": {},
     "output_type": "execute_result"
    }
   ],
   "source": [
    "import csv\n",
    "ifile = open(\"places.txt\")\n",
    "places = csv.reader(ifile)\n",
    "data = np.empty((300,2))\n",
    "for i,city in enumerate(places):\n",
    "    data[i] = city\n",
    "nplaces = data.shape[0]\n",
    "data.shape"
   ]
  },
  {
   "cell_type": "code",
   "execution_count": 5,
   "metadata": {},
   "outputs": [],
   "source": [
    "#convert to radians\n",
    "coords = (np.pi/180.)*data"
   ]
  },
  {
   "cell_type": "code",
   "execution_count": 6,
   "metadata": {},
   "outputs": [
    {
     "data": {
      "text/plain": [
       "(33.429424, 43.5093982, 0.5834535158452129, 0.7593822541512942)"
      ]
     },
     "execution_count": 6,
     "metadata": {},
     "output_type": "execute_result"
    }
   ],
   "source": [
    "np.min(data[:,1]),np.max(data[:,1]),np.min(coords[:,1]),np.max(coords[:,1])"
   ]
  },
  {
   "cell_type": "markdown",
   "metadata": {},
   "source": [
    "#### convert latitude / longitude to kilometric distances"
   ]
  },
  {
   "cell_type": "code",
   "execution_count": 7,
   "metadata": {},
   "outputs": [],
   "source": [
    "distances = np.zeros((nplaces,nplaces))\n",
    "for i in range(nplaces-1):\n",
    "    for j in range(i+1,nplaces):\n",
    "        distances[i,j] = distance(coords[i],coords[j])\n",
    "        distances[j,i] = distances[i,j]"
   ]
  },
  {
   "cell_type": "markdown",
   "metadata": {},
   "source": [
    "## settings"
   ]
  },
  {
   "cell_type": "code",
   "execution_count": 8,
   "metadata": {},
   "outputs": [],
   "source": [
    "nclusters = 3\n",
    "niter = 500\n",
    "metric = 'cityblock'"
   ]
  },
  {
   "cell_type": "markdown",
   "metadata": {},
   "source": [
    "## PAM"
   ]
  },
  {
   "cell_type": "code",
   "execution_count": 9,
   "metadata": {},
   "outputs": [
    {
     "name": "stdout",
     "output_type": "stream",
     "text": [
      "WARNING: still testing SWAP\n",
      "(array([  6,   9,  11,  14,  15,  16,  18,  23,  31,  35,  39,  40,  41,\n",
      "        42,  43,  44,  47,  51,  53,  55,  57,  59,  62,  65,  66,  69,\n",
      "        72,  77,  81,  96,  97, 104, 105, 111, 120, 121, 124, 126, 128,\n",
      "       130, 132, 140, 141, 144, 145, 146, 148, 149, 151, 152, 158, 159,\n",
      "       164, 173, 174, 177, 178, 182, 183, 185, 186, 190, 191, 195, 198,\n",
      "       202, 205, 208, 209, 211, 212, 224, 225, 226, 228, 231, 232, 235,\n",
      "       237, 239, 242, 243, 244, 245, 246, 247, 248, 250, 251, 256, 258,\n",
      "       262, 271, 273, 280, 281, 282, 283, 286, 292]), 235)\n",
      "2.458798690000009\n",
      "(array([  0,   1,   2,   3,   7,   8,  10,  13,  17,  24,  26,  28,  29,\n",
      "        32,  33,  34,  37,  46,  48,  49,  52,  56,  60,  63,  67,  71,\n",
      "        74,  75,  76,  79,  80,  82,  84,  85,  87,  89,  92,  98,  99,\n",
      "       100, 102, 103, 106, 108, 109, 112, 114, 115, 117, 122, 133, 134,\n",
      "       137, 138, 142, 147, 161, 163, 171, 172, 175, 180, 188, 192, 193,\n",
      "       194, 196, 197, 199, 201, 203, 206, 213, 216, 218, 220, 227, 229,\n",
      "       230, 236, 238, 240, 241, 249, 257, 259, 261, 265, 267, 269, 272,\n",
      "       276, 277, 289, 291, 293, 295, 296, 297, 299]), 133)\n",
      "1.5916656937998468\n",
      "(array([  4,   5,  12,  19,  20,  21,  22,  25,  27,  30,  36,  38,  45,\n",
      "        50,  54,  58,  61,  64,  68,  70,  73,  78,  83,  86,  88,  90,\n",
      "        91,  93,  94,  95, 101, 107, 110, 113, 116, 118, 119, 123, 125,\n",
      "       127, 129, 131, 135, 136, 139, 143, 150, 153, 154, 155, 156, 157,\n",
      "       160, 162, 165, 166, 167, 168, 169, 170, 176, 179, 181, 184, 187,\n",
      "       189, 200, 204, 207, 210, 214, 215, 217, 219, 221, 222, 223, 233,\n",
      "       234, 252, 253, 254, 255, 260, 263, 264, 266, 268, 270, 274, 275,\n",
      "       278, 279, 284, 285, 287, 288, 290, 294, 298]), 61)\n",
      "1.5977775183998588\n"
     ]
    },
    {
     "data": {
      "text/plain": [
       "(5.648241902199715, [235, 133, 61], 0, 0)"
      ]
     },
     "execution_count": 9,
     "metadata": {},
     "output_type": "execute_result"
    }
   ],
   "source": [
    "my_estimator = myclusters.PAM(K=nclusters,niter=niter,metric=metric)\n",
    "cost, medoids = my_estimator.do_clustering(X=data)\n",
    "cost, medoids, my_estimator.nstep, my_estimator.nswap"
   ]
  },
  {
   "cell_type": "code",
   "execution_count": 10,
   "metadata": {},
   "outputs": [
    {
     "data": {
      "text/plain": [
       "array([[ -80.843784 ,   35.2275289],\n",
       "       [-112.0737923,   33.4568607],\n",
       "       [ -80.5243892,   43.4752375]])"
      ]
     },
     "execution_count": 10,
     "metadata": {},
     "output_type": "execute_result"
    }
   ],
   "source": [
    "data[my_estimator.medoids]"
   ]
  },
  {
   "cell_type": "code",
   "execution_count": 11,
   "metadata": {},
   "outputs": [
    {
     "data": {
      "text/plain": [
       "array([133, 133, 133, 133,  61,  61, 235, 133, 133, 235, 133, 235,  61,\n",
       "       133, 235, 235, 235, 133, 235,  61,  61,  61,  61, 235, 133,  61,\n",
       "       133,  61, 133, 133,  61, 235, 133, 133, 133, 235,  61, 133,  61,\n",
       "       235, 235, 235, 235, 235, 235,  61, 133, 235, 133, 133,  61, 235,\n",
       "       133, 235,  61, 235, 133, 235,  61, 235, 133,  61, 235, 133,  61,\n",
       "       235, 235, 133,  61, 235,  61, 133, 235,  61, 133, 133, 133, 235,\n",
       "        61, 133, 133, 235, 133,  61, 133, 133,  61, 133,  61, 133,  61,\n",
       "        61, 133,  61,  61,  61, 235, 235, 133, 133, 133,  61, 133, 133,\n",
       "       235, 235, 133,  61, 133, 133,  61, 235, 133,  61, 133, 133,  61,\n",
       "       133,  61,  61, 235, 235, 133,  61, 235,  61, 235,  61, 235,  61,\n",
       "       235,  61, 235, 133, 133,  61,  61, 133, 133,  61, 235, 235, 133,\n",
       "        61, 235, 235, 235, 133, 235, 235,  61, 235, 235,  61,  61,  61,\n",
       "        61,  61, 235, 235,  61, 133,  61, 133, 235,  61,  61,  61,  61,\n",
       "        61,  61, 133, 133, 235, 235, 133,  61, 235, 235,  61, 133,  61,\n",
       "       235, 235,  61, 235, 235,  61, 133,  61, 235, 235, 133, 133, 133,\n",
       "       235, 133, 133, 235, 133,  61, 133, 235, 133,  61, 235, 133,  61,\n",
       "       235, 235,  61, 235, 235, 133,  61,  61, 133,  61, 133,  61, 133,\n",
       "        61,  61,  61, 235, 235, 235, 133, 235, 133, 133, 235, 235,  61,\n",
       "        61, 235, 133, 235, 133, 235, 133, 133, 235, 235, 235, 235, 235,\n",
       "       235, 235, 133, 235, 235,  61,  61,  61,  61, 235, 133, 235, 133,\n",
       "        61, 133, 235,  61,  61, 133,  61, 133,  61, 133,  61, 235, 133,\n",
       "       235,  61,  61, 133, 133,  61,  61, 235, 235, 235, 235,  61,  61,\n",
       "       235,  61,  61, 133,  61, 133, 235, 133,  61, 133, 133, 133,  61,\n",
       "       133])"
      ]
     },
     "execution_count": 11,
     "metadata": {},
     "output_type": "execute_result"
    }
   ],
   "source": [
    "my_estimator.clusters"
   ]
  }
 ],
 "metadata": {
  "kernelspec": {
   "display_name": "Python 3",
   "language": "python",
   "name": "python3"
  },
  "language_info": {
   "codemirror_mode": {
    "name": "ipython",
    "version": 3
   },
   "file_extension": ".py",
   "mimetype": "text/x-python",
   "name": "python",
   "nbconvert_exporter": "python",
   "pygments_lexer": "ipython3",
   "version": "3.7.5"
  }
 },
 "nbformat": 4,
 "nbformat_minor": 2
}
