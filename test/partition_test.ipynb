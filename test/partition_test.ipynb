{
 "cells": [
  {
   "cell_type": "markdown",
   "metadata": {},
   "source": [
    "# Partition Clustering tests"
   ]
  },
  {
   "cell_type": "code",
   "execution_count": 1,
   "metadata": {},
   "outputs": [],
   "source": [
    "import numpy as np\n",
    "import sys\n",
    "from sklearn.cluster import KMeans as sKMeans\n",
    "from sklearn_extra.cluster import KMedoids\n",
    "from math import atan2, cos, sin, sqrt\n",
    "import matplotlib.pyplot as plt\n",
    "from random import sample\n",
    "\n",
    "%matplotlib inline\n",
    "%load_ext autoreload"
   ]
  },
  {
   "cell_type": "code",
   "execution_count": 2,
   "metadata": {},
   "outputs": [],
   "source": [
    "sys.path.append(\"/home/gmancini/Dropbox/appunti/Clustering/src\")\n",
    "import mdutils\n",
    "import myclusters\n",
    "import mymetrics\n",
    "%autoreload 2"
   ]
  },
  {
   "cell_type": "markdown",
   "metadata": {},
   "source": [
    "use distance of cities in the U. S. as reference dataset; convert coordinates to distances."
   ]
  },
  {
   "cell_type": "code",
   "execution_count": 3,
   "metadata": {},
   "outputs": [],
   "source": [
    "def distance(coord0,coord1,radius=6373.0):\n",
    "    dlon = coord1[1] - coord0[1]\n",
    "    dlat = coord1[0] - coord0[0]\n",
    "\n",
    "    a = sin(dlat / 2)**2 + cos(coord0[0]) * cos(coord1[0]) * sin(dlon / 2)**2\n",
    "    c = 2 * atan2(sqrt(a), sqrt(1 - a))\n",
    "\n",
    "    distance = radius * c"
   ]
  },
  {
   "cell_type": "markdown",
   "metadata": {},
   "source": [
    "#### load data for US cities"
   ]
  },
  {
   "cell_type": "code",
   "execution_count": 4,
   "metadata": {},
   "outputs": [
    {
     "data": {
      "text/plain": [
       "(300, 2)"
      ]
     },
     "execution_count": 4,
     "metadata": {},
     "output_type": "execute_result"
    }
   ],
   "source": [
    "import csv\n",
    "ifile = open(\"places.txt\")\n",
    "places = csv.reader(ifile)\n",
    "data = np.empty((300,2))\n",
    "for i,city in enumerate(places):\n",
    "    data[i] = city\n",
    "nplaces = data.shape[0]\n",
    "data.shape"
   ]
  },
  {
   "cell_type": "code",
   "execution_count": 5,
   "metadata": {},
   "outputs": [],
   "source": [
    "#convert to radians\n",
    "coords = (np.pi/180.)*data"
   ]
  },
  {
   "cell_type": "code",
   "execution_count": 6,
   "metadata": {},
   "outputs": [
    {
     "data": {
      "text/plain": [
       "(33.429424, 43.5093982, 0.5834535158452129, 0.7593822541512942)"
      ]
     },
     "execution_count": 6,
     "metadata": {},
     "output_type": "execute_result"
    }
   ],
   "source": [
    "np.min(data[:,1]),np.max(data[:,1]),np.min(coords[:,1]),np.max(coords[:,1])"
   ]
  },
  {
   "cell_type": "markdown",
   "metadata": {},
   "source": [
    "#### convert latitude / longitude to kilometric distances"
   ]
  },
  {
   "cell_type": "code",
   "execution_count": 7,
   "metadata": {},
   "outputs": [],
   "source": [
    "distances = np.zeros((nplaces,nplaces))\n",
    "for i in range(nplaces-1):\n",
    "    for j in range(i+1,nplaces):\n",
    "        distances[i,j] = distance(coords[i],coords[j])\n",
    "        distances[j,i] = distances[i,j]"
   ]
  },
  {
   "cell_type": "markdown",
   "metadata": {},
   "source": [
    "## settings"
   ]
  },
  {
   "cell_type": "code",
   "execution_count": 8,
   "metadata": {},
   "outputs": [],
   "source": [
    "nclusters = 3\n",
    "niter = 1000\n",
    "nrun = 10\n",
    "conv=1e-5\n",
    "metric = 'cityblock'"
   ]
  },
  {
   "cell_type": "markdown",
   "metadata": {},
   "source": [
    "## KMeans2"
   ]
  },
  {
   "cell_type": "markdown",
   "metadata": {},
   "source": [
    "### test KMeans2 with random boot"
   ]
  },
  {
   "cell_type": "code",
   "execution_count": 9,
   "metadata": {},
   "outputs": [
    {
     "name": "stdout",
     "output_type": "stream",
     "text": [
      "{248, 147, 254} 6.55228663380052 4 \n",
      " [[ -80.834638    35.228506 ]\n",
      " [-112.073569    33.4640983]\n",
      " [ -80.5365704   43.471988 ]]\n",
      "{184, 163, 46} 859.1021307013999 4 \n",
      " [[ -80.53910851   43.47196654]\n",
      " [-112.0709775    33.4470733 ]\n",
      " [-112.0742162    33.4796505 ]]\n",
      "{97, 58, 103} 6.345693784400709 4 \n",
      " [[ -80.8394745    35.2278411 ]\n",
      " [ -80.53925104   43.4721726 ]\n",
      " [-112.0740511    33.4499524 ]]\n"
     ]
    }
   ],
   "source": [
    "for i in range(3):\n",
    "    my_estimator = myclusters.KMeans2(K=nclusters,niter=niter,nrun=nrun,boot='random',conv=1e-5,metric=metric)\n",
    "    my_estimator.do_clustering(X=data)\n",
    "    medoids = set(list(my_estimator.clusters))\n",
    "    print(medoids,my_estimator.inertia, my_estimator.final_iter,\"\\n\",data[list(medoids)])"
   ]
  },
  {
   "cell_type": "markdown",
   "metadata": {},
   "source": [
    "## PAM\n",
    "\n",
    "see Kaufman, L. and Rousseeuw, P.J. (1987), Clustering by means of Medoids, in Statistical Data Analysis Based on the {\\displaystyle L_{1}}L_{1}–Norm and Related Methods, edited by Y. Dodge, North-Holland, 405–416."
   ]
  },
  {
   "cell_type": "markdown",
   "metadata": {},
   "source": [
    "### Compare with SKlearn-extra.KMedoids"
   ]
  },
  {
   "cell_type": "code",
   "execution_count": 10,
   "metadata": {
    "scrolled": true
   },
   "outputs": [
    {
     "name": "stdout",
     "output_type": "stream",
     "text": [
      "[193 181 229] \n",
      " 858.4233418062001\n",
      "[ 61 235 133] \n",
      " 5.648241902199715\n",
      "[235 133  61] \n",
      " 5.648241902199715\n"
     ]
    }
   ],
   "source": [
    "for i in range(3):\n",
    "    #kmedoids = KMedoids(n_clusters=3, random_state=0, max_iter=niter, metric='cityblock',init='random')\n",
    "    kmedoids = KMedoids(n_clusters=3, max_iter=niter, metric='cityblock',init='random')\n",
    "    kmedoids.fit_predict(data)\n",
    "    print(kmedoids.medoid_indices_, \"\\n\",kmedoids.inertia_)"
   ]
  },
  {
   "cell_type": "code",
   "execution_count": 11,
   "metadata": {
    "scrolled": false
   },
   "outputs": [
    {
     "name": "stdout",
     "output_type": "stream",
     "text": [
      "[235 133  61] \n",
      " 5.648241902199715\n",
      "[235 133  61] \n",
      " 5.648241902199715\n",
      "[235 133  61] \n",
      " 5.648241902199715\n"
     ]
    }
   ],
   "source": [
    "for i in range(3):\n",
    "    kmedoids = KMedoids(n_clusters=3, max_iter=niter, metric='cityblock',init='heuristic')\n",
    "    kmedoids.fit_predict(data)\n",
    "    print(kmedoids.medoid_indices_, \"\\n\",kmedoids.inertia_)"
   ]
  },
  {
   "cell_type": "code",
   "execution_count": 12,
   "metadata": {},
   "outputs": [
    {
     "data": {
      "text/plain": [
       "array([[ -80.843784 ,   35.2275289],\n",
       "       [-112.0737923,   33.4568607],\n",
       "       [ -80.5243892,   43.4752375]])"
      ]
     },
     "execution_count": 12,
     "metadata": {},
     "output_type": "execute_result"
    }
   ],
   "source": [
    "data[kmedoids.medoid_indices_]"
   ]
  },
  {
   "cell_type": "markdown",
   "metadata": {},
   "source": [
    "## KMeans"
   ]
  },
  {
   "cell_type": "code",
   "execution_count": 13,
   "metadata": {},
   "outputs": [],
   "source": [
    "metric='euclidean'"
   ]
  },
  {
   "cell_type": "markdown",
   "metadata": {},
   "source": [
    "### test KMeans"
   ]
  },
  {
   "cell_type": "code",
   "execution_count": 14,
   "metadata": {},
   "outputs": [
    {
     "name": "stdout",
     "output_type": "stream",
     "text": [
      "KMeans\n"
     ]
    },
    {
     "data": {
      "text/plain": [
       "0.25756797823545885"
      ]
     },
     "execution_count": 14,
     "metadata": {},
     "output_type": "execute_result"
    }
   ],
   "source": [
    "my_estimator = myclusters.KMeans(K=nclusters,niter=niter,nrun=nrun,\\\n",
    "                               boot='random',conv=1e-5,metric=metric)\n",
    "my_estimator.do_clustering(X=data)\n",
    "print(type(my_estimator).__name__)\n",
    "clusters = my_estimator.clusters\n",
    "my_estimator.inertia"
   ]
  },
  {
   "cell_type": "code",
   "execution_count": 15,
   "metadata": {},
   "outputs": [
    {
     "data": {
      "text/plain": [
       "array([[-112.07160642,   33.46049013],\n",
       "       [ -80.52837166,   43.47624848],\n",
       "       [ -80.84422658,   35.21709692]])"
      ]
     },
     "execution_count": 15,
     "metadata": {},
     "output_type": "execute_result"
    }
   ],
   "source": [
    "np.sort(my_estimator.centers)"
   ]
  },
  {
   "cell_type": "markdown",
   "metadata": {},
   "source": [
    "### boot with kmeans++"
   ]
  },
  {
   "cell_type": "code",
   "execution_count": 16,
   "metadata": {},
   "outputs": [
    {
     "name": "stdout",
     "output_type": "stream",
     "text": [
      "KMeans\n"
     ]
    },
    {
     "data": {
      "text/plain": [
       "0.25756797823545885"
      ]
     },
     "execution_count": 16,
     "metadata": {},
     "output_type": "execute_result"
    }
   ],
   "source": [
    "my_estimator = myclusters.KMeans(K=nclusters,niter=niter,nrun=nrun,\\\n",
    "                               boot='kmeans++',conv=1e-5,metric=metric)\n",
    "my_estimator.do_clustering(X=data)\n",
    "print(type(my_estimator).__name__)\n",
    "clusters = my_estimator.clusters\n",
    "my_estimator.inertia"
   ]
  },
  {
   "cell_type": "code",
   "execution_count": 17,
   "metadata": {},
   "outputs": [
    {
     "data": {
      "text/plain": [
       "array([[-112.07160642,   33.46049013],\n",
       "       [ -80.84422658,   35.21709692],\n",
       "       [ -80.52837166,   43.47624848]])"
      ]
     },
     "execution_count": 17,
     "metadata": {},
     "output_type": "execute_result"
    }
   ],
   "source": [
    "np.sort(my_estimator.centers)"
   ]
  },
  {
   "cell_type": "markdown",
   "metadata": {},
   "source": [
    "### SciKit Learn reference"
   ]
  },
  {
   "cell_type": "code",
   "execution_count": 18,
   "metadata": {},
   "outputs": [
    {
     "name": "stdout",
     "output_type": "stream",
     "text": [
      "[1 1 1 1 0 0 2 1 1 2 1 2 0 1 2 2 2 1 2 0 0 0 0 2 1 0 1 0 1 1 0 2 1 1 1 2 0\n",
      " 1 0 2 2 2 2 2 2 0 1 2 1 1 0 2 1 2 0 2 1 2 0 2 1 0 2 1 0 2 2 1 0 2 0 1 2 0\n",
      " 1 1 1 2 0 1 1 2 1 0 1 1 0 1 0 1 0 0 1 0 0 0 2 2 1 1 1 0 1 1 2 2 1 0 1 1 0\n",
      " 2 1 0 1 1 0 1 0 0 2 2 1 0 2 0 2 0 2 0 2 0 2 1 1 0 0 1 1 0 2 2 1 0 2 2 2 1\n",
      " 2 2 0 2 2 0 0 0 0 0 2 2 0 1 0 1 2 0 0 0 0 0 0 1 1 2 2 1 0 2 2 0 1 0 2 2 0\n",
      " 2 2 0 1 0 2 2 1 1 1 2 1 1 2 1 0 1 2 1 0 2 1 0 2 2 0 2 2 1 0 0 1 0 1 0 1 0\n",
      " 0 0 2 2 2 1 2 1 1 2 2 0 0 2 1 2 1 2 1 1 2 2 2 2 2 2 2 1 2 2 0 0 0 0 2 1 2\n",
      " 1 0 1 2 0 0 1 0 1 0 1 0 2 1 2 0 0 1 1 0 0 2 2 2 2 0 0 2 0 0 1 0 1 2 1 0 1\n",
      " 1 1 0 1]\n"
     ]
    },
    {
     "data": {
      "text/plain": [
       "(array([[ -80.52837166,   43.47624848],\n",
       "        [-112.07160642,   33.46049013],\n",
       "        [ -80.84422658,   35.21709692]]), 0.2575679782354589)"
      ]
     },
     "execution_count": 18,
     "metadata": {},
     "output_type": "execute_result"
    }
   ],
   "source": [
    "estimator = sKMeans(n_clusters=nclusters,init='random',n_init=nrun,max_iter=niter, tol=conv)\n",
    "estimator.fit_predict(data)\n",
    "sk_centers = estimator.cluster_centers_\n",
    "sk_clusters = np.copy(estimator.labels_)\n",
    "print(sk_clusters)\n",
    "sk_centers,estimator.inertia_"
   ]
  },
  {
   "cell_type": "code",
   "execution_count": 19,
   "metadata": {},
   "outputs": [
    {
     "data": {
      "text/plain": [
       "(array([[ -80.52837166,   43.47624848],\n",
       "        [-112.07160642,   33.46049013],\n",
       "        [ -80.84422658,   35.21709692]]),\n",
       " array([[-112.07160642,   33.46049013],\n",
       "        [ -80.84422658,   35.21709692],\n",
       "        [ -80.52837166,   43.47624848]]))"
      ]
     },
     "execution_count": 19,
     "metadata": {},
     "output_type": "execute_result"
    }
   ],
   "source": [
    "sk_centers,my_estimator.centers"
   ]
  },
  {
   "cell_type": "code",
   "execution_count": 20,
   "metadata": {},
   "outputs": [
    {
     "data": {
      "text/plain": [
       "5.551115123125783e-17"
      ]
     },
     "execution_count": 20,
     "metadata": {},
     "output_type": "execute_result"
    }
   ],
   "source": [
    "estimator.inertia_- my_estimator.inertia"
   ]
  },
  {
   "cell_type": "markdown",
   "metadata": {},
   "source": [
    "## K-Medians"
   ]
  },
  {
   "cell_type": "code",
   "execution_count": 21,
   "metadata": {},
   "outputs": [
    {
     "name": "stdout",
     "output_type": "stream",
     "text": [
      "0.2719391609339355 \n",
      " [[-112.07281044   33.4561877 ]\n",
      " [ -80.843388     35.2270246 ]\n",
      " [ -80.52527257   43.4723904 ]]\n",
      "0.2719391609339355 \n",
      " [[ -80.843388     35.2270246 ]\n",
      " [-112.07281044   33.4561877 ]\n",
      " [ -80.52527257   43.4723904 ]]\n",
      "0.2719391609339355 \n",
      " [[ -80.52527257   43.4723904 ]\n",
      " [ -80.843388     35.2270246 ]\n",
      " [-112.07281044   33.4561877 ]]\n"
     ]
    }
   ],
   "source": [
    "for i in range(3):\n",
    "    my_estimator = myclusters.KMedians(K=nclusters,niter=niter,nrun=nrun,boot='random',conv=conv)\n",
    "    my_estimator.do_clustering(X=data)\n",
    "    print(my_estimator.inertia,\"\\n\",my_estimator.centers)"
   ]
  }
 ],
 "metadata": {
  "kernelspec": {
   "display_name": "Python 3",
   "language": "python",
   "name": "python3"
  },
  "language_info": {
   "codemirror_mode": {
    "name": "ipython",
    "version": 3
   },
   "file_extension": ".py",
   "mimetype": "text/x-python",
   "name": "python",
   "nbconvert_exporter": "python",
   "pygments_lexer": "ipython3",
   "version": "3.6.8"
  }
 },
 "nbformat": 4,
 "nbformat_minor": 2
}
