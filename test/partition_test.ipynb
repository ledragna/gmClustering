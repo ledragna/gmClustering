{
 "cells": [
  {
   "cell_type": "markdown",
   "metadata": {},
   "source": [
    "# Partition Clustering tests"
   ]
  },
  {
   "cell_type": "code",
   "execution_count": 1,
   "metadata": {},
   "outputs": [],
   "source": [
    "import numpy as np\n",
    "import scipy as sp\n",
    "import sys\n",
    "from sklearn.cluster import KMeans as sKMeans\n",
    "from sklearn_extra.cluster import KMedoids\n",
    "from math import atan2, cos, sin, sqrt\n",
    "import matplotlib.pyplot as plt\n",
    "from random import sample\n",
    "import seaborn as sns\n",
    "\n",
    "%matplotlib inline\n",
    "%load_ext autoreload"
   ]
  },
  {
   "cell_type": "code",
   "execution_count": 2,
   "metadata": {},
   "outputs": [],
   "source": [
    "sys.path.append(\"/home/gmancini/Dropbox/appunti/Clustering/src\")\n",
    "import mdutils\n",
    "import myclusters\n",
    "import myvalidation\n",
    "%autoreload 2"
   ]
  },
  {
   "cell_type": "markdown",
   "metadata": {},
   "source": [
    "use distance of cities in the U. S. as reference dataset; convert coordinates to distances."
   ]
  },
  {
   "cell_type": "code",
   "execution_count": 3,
   "metadata": {},
   "outputs": [],
   "source": [
    "def distance(coord0,coord1,radius=6373.0):\n",
    "    dlon = coord1[1] - coord0[1]\n",
    "    dlat = coord1[0] - coord0[0]\n",
    "\n",
    "    a = sin(dlat / 2)**2 + cos(coord0[0]) * cos(coord1[0]) * sin(dlon / 2)**2\n",
    "    c = 2 * atan2(sqrt(a), sqrt(1 - a))\n",
    "\n",
    "    distance = radius * c"
   ]
  },
  {
   "cell_type": "markdown",
   "metadata": {},
   "source": [
    "#### load data for US cities"
   ]
  },
  {
   "cell_type": "code",
   "execution_count": 4,
   "metadata": {},
   "outputs": [
    {
     "data": {
      "text/plain": [
       "(300, 2)"
      ]
     },
     "execution_count": 4,
     "metadata": {},
     "output_type": "execute_result"
    }
   ],
   "source": [
    "import csv\n",
    "ifile = open(\"places.txt\")\n",
    "places = csv.reader(ifile)\n",
    "data = np.empty((300,2))\n",
    "for i,city in enumerate(places):\n",
    "    data[i] = city\n",
    "nplaces = data.shape[0]\n",
    "data.shape"
   ]
  },
  {
   "cell_type": "code",
   "execution_count": 5,
   "metadata": {},
   "outputs": [],
   "source": [
    "#convert to radians\n",
    "coords = (np.pi/180.)*data"
   ]
  },
  {
   "cell_type": "code",
   "execution_count": 6,
   "metadata": {},
   "outputs": [
    {
     "data": {
      "text/plain": [
       "(33.429424, 43.5093982, 0.5834535158452129, 0.7593822541512942)"
      ]
     },
     "execution_count": 6,
     "metadata": {},
     "output_type": "execute_result"
    }
   ],
   "source": [
    "np.min(data[:,1]),np.max(data[:,1]),np.min(coords[:,1]),np.max(coords[:,1])"
   ]
  },
  {
   "cell_type": "markdown",
   "metadata": {},
   "source": [
    "#### convert latitude / longitude to kilometric distances"
   ]
  },
  {
   "cell_type": "code",
   "execution_count": 7,
   "metadata": {},
   "outputs": [],
   "source": [
    "distances = np.zeros((nplaces,nplaces))\n",
    "for i in range(nplaces-1):\n",
    "    for j in range(i+1,nplaces):\n",
    "        distances[i,j] = distance(coords[i],coords[j])\n",
    "        distances[j,i] = distances[i,j]"
   ]
  },
  {
   "cell_type": "markdown",
   "metadata": {},
   "source": [
    "## settings"
   ]
  },
  {
   "cell_type": "code",
   "execution_count": 8,
   "metadata": {},
   "outputs": [],
   "source": [
    "nclusters = 3\n",
    "niter = 500\n",
    "nrun = 10\n",
    "conv=1e-5\n",
    "metric = 'cityblock'"
   ]
  },
  {
   "cell_type": "markdown",
   "metadata": {},
   "source": [
    "## KMeans"
   ]
  },
  {
   "cell_type": "code",
   "execution_count": 9,
   "metadata": {},
   "outputs": [],
   "source": [
    "metric='euclidean'"
   ]
  },
  {
   "cell_type": "markdown",
   "metadata": {},
   "source": [
    "### test KMeans"
   ]
  },
  {
   "cell_type": "code",
   "execution_count": 10,
   "metadata": {},
   "outputs": [
    {
     "name": "stdout",
     "output_type": "stream",
     "text": [
      "KMeans\n"
     ]
    },
    {
     "data": {
      "text/plain": [
       "0.25756797823545885"
      ]
     },
     "execution_count": 10,
     "metadata": {},
     "output_type": "execute_result"
    }
   ],
   "source": [
    "my_estimator = myclusters.KMeans(K=nclusters,niter=niter,nrun=nrun,\\\n",
    "                               boot='random',conv=1e-5,metric=metric)\n",
    "my_estimator.do_clustering(X=data)\n",
    "print(type(my_estimator).__name__)\n",
    "clusters = my_estimator.clusters\n",
    "my_estimator.inertia"
   ]
  },
  {
   "cell_type": "code",
   "execution_count": 11,
   "metadata": {},
   "outputs": [
    {
     "data": {
      "text/plain": [
       "array([[ -80.84422658,   35.21709692],\n",
       "       [ -80.52837166,   43.47624848],\n",
       "       [-112.07160642,   33.46049013]])"
      ]
     },
     "execution_count": 11,
     "metadata": {},
     "output_type": "execute_result"
    }
   ],
   "source": [
    "my_estimator.centers"
   ]
  },
  {
   "cell_type": "markdown",
   "metadata": {},
   "source": [
    "### boot with kmeans++"
   ]
  },
  {
   "cell_type": "code",
   "execution_count": 12,
   "metadata": {},
   "outputs": [
    {
     "name": "stderr",
     "output_type": "stream",
     "text": [
      "/usr/local/lib/python3.7/dist-packages/numpy/lib/function_base.py:393: RuntimeWarning: Mean of empty slice.\n",
      "  avg = a.mean(axis)\n",
      "/usr/local/lib/python3.7/dist-packages/numpy/core/_methods.py:154: RuntimeWarning: invalid value encountered in true_divide\n",
      "  ret, rcount, out=ret, casting='unsafe', subok=False)\n"
     ]
    },
    {
     "name": "stdout",
     "output_type": "stream",
     "text": [
      "KMeans\n"
     ]
    },
    {
     "data": {
      "text/plain": [
       "0.25756797823545885"
      ]
     },
     "execution_count": 12,
     "metadata": {},
     "output_type": "execute_result"
    }
   ],
   "source": [
    "my_estimator = myclusters.KMeans(K=nclusters,niter=niter,nrun=nrun,\\\n",
    "                               boot='kmeans++',conv=conv,metric=metric)\n",
    "my_estimator.do_clustering(X=data)\n",
    "print(type(my_estimator).__name__)\n",
    "clusters = my_estimator.clusters\n",
    "my_estimator.inertia"
   ]
  },
  {
   "cell_type": "code",
   "execution_count": 13,
   "metadata": {},
   "outputs": [
    {
     "data": {
      "text/plain": [
       "array([[ -80.84422658,   35.21709692],\n",
       "       [ -80.52837166,   43.47624848],\n",
       "       [-112.07160642,   33.46049013]])"
      ]
     },
     "execution_count": 13,
     "metadata": {},
     "output_type": "execute_result"
    }
   ],
   "source": [
    "np.sort(my_estimator.centers)"
   ]
  },
  {
   "cell_type": "markdown",
   "metadata": {},
   "source": [
    "### SciKit Learn reference"
   ]
  },
  {
   "cell_type": "code",
   "execution_count": 14,
   "metadata": {},
   "outputs": [
    {
     "name": "stdout",
     "output_type": "stream",
     "text": [
      "[1 1 1 1 2 2 0 1 1 0 1 0 2 1 0 0 0 1 0 2 2 2 2 0 1 2 1 2 1 1 2 0 1 1 1 0 2\n",
      " 1 2 0 0 0 0 0 0 2 1 0 1 1 2 0 1 0 2 0 1 0 2 0 1 2 0 1 2 0 0 1 2 0 2 1 0 2\n",
      " 1 1 1 0 2 1 1 0 1 2 1 1 2 1 2 1 2 2 1 2 2 2 0 0 1 1 1 2 1 1 0 0 1 2 1 1 2\n",
      " 0 1 2 1 1 2 1 2 2 0 0 1 2 0 2 0 2 0 2 0 2 0 1 1 2 2 1 1 2 0 0 1 2 0 0 0 1\n",
      " 0 0 2 0 0 2 2 2 2 2 0 0 2 1 2 1 0 2 2 2 2 2 2 1 1 0 0 1 2 0 0 2 1 2 0 0 2\n",
      " 0 0 2 1 2 0 0 1 1 1 0 1 1 0 1 2 1 0 1 2 0 1 2 0 0 2 0 0 1 2 2 1 2 1 2 1 2\n",
      " 2 2 0 0 0 1 0 1 1 0 0 2 2 0 1 0 1 0 1 1 0 0 0 0 0 0 0 1 0 0 2 2 2 2 0 1 0\n",
      " 1 2 1 0 2 2 1 2 1 2 1 2 0 1 0 2 2 1 1 2 2 0 0 0 0 2 2 0 2 2 1 2 1 0 1 2 1\n",
      " 1 1 2 1]\n"
     ]
    },
    {
     "data": {
      "text/plain": [
       "(array([[ -80.84422658,   35.21709692],\n",
       "        [-112.07160642,   33.46049013],\n",
       "        [ -80.52837166,   43.47624848]]),\n",
       " 0.2575679782354589)"
      ]
     },
     "execution_count": 14,
     "metadata": {},
     "output_type": "execute_result"
    }
   ],
   "source": [
    "estimator = sKMeans(n_clusters=nclusters,init='random',n_init=nrun,max_iter=niter, tol=conv)\n",
    "estimator.fit_predict(data)\n",
    "sk_centers = estimator.cluster_centers_\n",
    "sk_clusters = np.copy(estimator.labels_)\n",
    "print(sk_clusters)\n",
    "sk_centers,estimator.inertia_"
   ]
  },
  {
   "cell_type": "code",
   "execution_count": 15,
   "metadata": {},
   "outputs": [
    {
     "data": {
      "text/plain": [
       "(array([[ -80.84422658,   35.21709692],\n",
       "        [-112.07160642,   33.46049013],\n",
       "        [ -80.52837166,   43.47624848]]),\n",
       " array([[ -80.84422658,   35.21709692],\n",
       "        [ -80.52837166,   43.47624848],\n",
       "        [-112.07160642,   33.46049013]]))"
      ]
     },
     "execution_count": 15,
     "metadata": {},
     "output_type": "execute_result"
    }
   ],
   "source": [
    "sk_centers,my_estimator.centers"
   ]
  },
  {
   "cell_type": "code",
   "execution_count": 16,
   "metadata": {},
   "outputs": [
    {
     "data": {
      "text/plain": [
       "5.551115123125783e-17"
      ]
     },
     "execution_count": 16,
     "metadata": {},
     "output_type": "execute_result"
    }
   ],
   "source": [
    "estimator.inertia_- my_estimator.inertia"
   ]
  },
  {
   "cell_type": "markdown",
   "metadata": {},
   "source": [
    "## K-Medians"
   ]
  },
  {
   "cell_type": "code",
   "execution_count": 17,
   "metadata": {
    "scrolled": true
   },
   "outputs": [
    {
     "name": "stdout",
     "output_type": "stream",
     "text": [
      "0.2719391609339355 \n",
      " [[ -80.843388     35.2270246 ]\n",
      " [ -80.52527257   43.4723904 ]\n",
      " [-112.07281044   33.4561877 ]]\n",
      "0.2719391609339355 \n",
      " [[ -80.843388     35.2270246 ]\n",
      " [ -80.52527257   43.4723904 ]\n",
      " [-112.07281044   33.4561877 ]]\n",
      "0.2719391609339355 \n",
      " [[ -80.843388     35.2270246 ]\n",
      " [-112.07281044   33.4561877 ]\n",
      " [ -80.52527257   43.4723904 ]]\n"
     ]
    }
   ],
   "source": [
    "for i in range(3):\n",
    "    my_estimator = myclusters.KMedians(K=nclusters,niter=niter,nrun=nrun,boot='random',conv=conv)\n",
    "    my_estimator.do_clustering(X=data)\n",
    "    print(my_estimator.inertia,\"\\n\",my_estimator.centers)"
   ]
  },
  {
   "cell_type": "code",
   "execution_count": 18,
   "metadata": {},
   "outputs": [
    {
     "data": {
      "text/plain": [
       "-0.014371182698476592"
      ]
     },
     "execution_count": 18,
     "metadata": {},
     "output_type": "execute_result"
    }
   ],
   "source": [
    "estimator.inertia_- my_estimator.inertia"
   ]
  },
  {
   "cell_type": "markdown",
   "metadata": {},
   "source": [
    "## KMedoids\n",
    "\n",
    "KM like solution to kmedoid problem"
   ]
  },
  {
   "cell_type": "markdown",
   "metadata": {},
   "source": [
    "###  random boot"
   ]
  },
  {
   "cell_type": "code",
   "execution_count": 19,
   "metadata": {},
   "outputs": [
    {
     "name": "stdout",
     "output_type": "stream",
     "text": [
      "{177, 109, 119} 4.640240980864528 499 \n",
      " [[ -80.8428142   35.2265794]\n",
      " [-112.070655    33.4555253]\n",
      " [ -80.528095    43.474541 ]]\n",
      "{177, 109, 119} 4.640240980864528 499 \n",
      " [[ -80.8428142   35.2265794]\n",
      " [-112.070655    33.4555253]\n",
      " [ -80.528095    43.474541 ]]\n",
      "{177, 109, 119} 4.640240980864528 499 \n",
      " [[ -80.8428142   35.2265794]\n",
      " [-112.070655    33.4555253]\n",
      " [ -80.528095    43.474541 ]]\n"
     ]
    }
   ],
   "source": [
    "for i in range(3):\n",
    "    my_estimator = myclusters.KMedoids(K=nclusters,niter=niter,nrun=nrun,boot='random',conv=conv,metric=metric,\\\n",
    "                                      random_state=0)\n",
    "    my_estimator.do_clustering(X=data)\n",
    "    medoids = set(list(my_estimator.clusters))\n",
    "    print(medoids,my_estimator.inertia, my_estimator.final_iter,\"\\n\",data[list(medoids)])"
   ]
  },
  {
   "cell_type": "markdown",
   "metadata": {},
   "source": [
    "###  kmeans++ like"
   ]
  },
  {
   "cell_type": "code",
   "execution_count": 20,
   "metadata": {},
   "outputs": [
    {
     "name": "stdout",
     "output_type": "stream",
     "text": [
      "{177, 109, 119} 4.640240980864528 499 \n",
      " [[ -80.8428142   35.2265794]\n",
      " [-112.070655    33.4555253]\n",
      " [ -80.528095    43.474541 ]]\n",
      "{177, 109, 119} 4.640240980864528 499 \n",
      " [[ -80.8428142   35.2265794]\n",
      " [-112.070655    33.4555253]\n",
      " [ -80.528095    43.474541 ]]\n",
      "{177, 109, 119} 4.640240980864528 499 \n",
      " [[ -80.8428142   35.2265794]\n",
      " [-112.070655    33.4555253]\n",
      " [ -80.528095    43.474541 ]]\n"
     ]
    }
   ],
   "source": [
    "for i in range(3):\n",
    "    my_estimator = myclusters.KMedoids(K=nclusters,niter=niter,nrun=nrun,boot='kmeanspp',conv=conv,metric=metric,\\\n",
    "                                      random_state=0)\n",
    "    my_estimator.do_clustering(X=data)\n",
    "    medoids = set(list(my_estimator.clusters))\n",
    "    print(medoids,my_estimator.inertia, my_estimator.final_iter,\"\\n\",data[list(medoids)])"
   ]
  },
  {
   "cell_type": "markdown",
   "metadata": {},
   "source": [
    "### Compare with SKlearn-extra.KMedoids"
   ]
  },
  {
   "cell_type": "code",
   "execution_count": 21,
   "metadata": {
    "scrolled": false
   },
   "outputs": [
    {
     "name": "stdout",
     "output_type": "stream",
     "text": [
      "[235 133  61] \n",
      " 5.648241902199715\n",
      "[235 133  61] \n",
      " 5.648241902199715\n",
      "[235 133  61] \n",
      " 5.648241902199715\n"
     ]
    }
   ],
   "source": [
    "for i in range(3):\n",
    "    kmedoids = KMedoids(n_clusters=3, max_iter=niter, metric='cityblock',init='heuristic')\n",
    "    kmedoids.fit_predict(data)\n",
    "    print(kmedoids.medoid_indices_, \"\\n\",kmedoids.inertia_)"
   ]
  },
  {
   "cell_type": "code",
   "execution_count": 22,
   "metadata": {},
   "outputs": [
    {
     "data": {
      "text/plain": [
       "array([[ -80.843784 ,   35.2275289],\n",
       "       [-112.0737923,   33.4568607],\n",
       "       [ -80.5243892,   43.4752375]])"
      ]
     },
     "execution_count": 22,
     "metadata": {},
     "output_type": "execute_result"
    }
   ],
   "source": [
    "kmedoids.cluster_centers_"
   ]
  },
  {
   "cell_type": "code",
   "execution_count": 23,
   "metadata": {
    "scrolled": true
   },
   "outputs": [
    {
     "data": {
      "text/plain": [
       "array([[ -80.843784 ,   35.2275289],\n",
       "       [-112.0737923,   33.4568607],\n",
       "       [ -80.5243892,   43.4752375]])"
      ]
     },
     "execution_count": 23,
     "metadata": {},
     "output_type": "execute_result"
    }
   ],
   "source": [
    "data[kmedoids.medoid_indices_]"
   ]
  },
  {
   "cell_type": "markdown",
   "metadata": {},
   "source": [
    "## GROMOS"
   ]
  },
  {
   "cell_type": "code",
   "execution_count": 24,
   "metadata": {},
   "outputs": [
    {
     "data": {
      "text/plain": [
       "array([ 0.        ,  1.43586854,  2.87173708,  4.30760562,  5.74347417,\n",
       "        7.17934271,  8.61521125, 10.05107979, 11.48694833, 12.92281687,\n",
       "       14.35868541, 15.79455396, 17.2304225 , 18.66629104, 20.10215958,\n",
       "       21.53802812, 22.97389666, 24.4097652 , 25.84563374, 27.28150229,\n",
       "       28.71737083, 30.15323937, 31.58910791, 33.02497645, 34.46084499,\n",
       "       35.89671353, 37.33258208, 38.76845062, 40.20431916, 41.6401877 ])"
      ]
     },
     "execution_count": 24,
     "metadata": {},
     "output_type": "execute_result"
    }
   ],
   "source": [
    "D = sp.spatial.distance.squareform(sp.spatial.distance.pdist(data,metric='cityblock'))\n",
    "bins = np.histogram_bin_edges(D.ravel(), bins='fd')\n",
    "bins"
   ]
  },
  {
   "cell_type": "code",
   "execution_count": 25,
   "metadata": {},
   "outputs": [
    {
     "data": {
      "text/plain": [
       "<matplotlib.axes._subplots.AxesSubplot at 0x7f6ba6a309d0>"
      ]
     },
     "execution_count": 25,
     "metadata": {},
     "output_type": "execute_result"
    },
    {
     "data": {
      "image/png": "[encoded data removed]",
      "text/plain": [
       "<Figure size 432x288 with 1 Axes>"
      ]
     },
     "metadata": {},
     "output_type": "display_data"
    }
   ],
   "source": [
    "sns.set()\n",
    "sns.distplot(D.ravel(),bins=bins,kde=False,color='r')"
   ]
  },
  {
   "cell_type": "code",
   "execution_count": 26,
   "metadata": {},
   "outputs": [
    {
     "data": {
      "text/plain": [
       "(19.35402705244319, 3, 0)"
      ]
     },
     "execution_count": 26,
     "metadata": {},
     "output_type": "execute_result"
    }
   ],
   "source": [
    "my_estimator = myclusters.gromos_clustering(C=5. , scaldist=False , metric=metric)\n",
    "cost, ncl, nn = my_estimator.do_clustering(X=data)\n",
    "cost, ncl, nn"
   ]
  },
  {
   "cell_type": "code",
   "execution_count": 27,
   "metadata": {},
   "outputs": [
    {
     "data": {
      "text/plain": [
       "array([[-112.0693184 ,   33.4657177 ],\n",
       "       [ -80.81740634,   35.05785306],\n",
       "       [ -80.5194703 ,   43.476998  ]])"
      ]
     },
     "execution_count": 27,
     "metadata": {},
     "output_type": "execute_result"
    }
   ],
   "source": [
    "data[list(my_estimator.medoids)]"
   ]
  }
 ],
 "metadata": {
  "kernelspec": {
   "display_name": "Python 3",
   "language": "python",
   "name": "python3"
  },
  "language_info": {
   "codemirror_mode": {
    "name": "ipython",
    "version": 3
   },
   "file_extension": ".py",
   "mimetype": "text/x-python",
   "name": "python",
   "nbconvert_exporter": "python",
   "pygments_lexer": "ipython3",
   "version": "3.8.5"
  }
 },
 "nbformat": 4,
 "nbformat_minor": 2
}
