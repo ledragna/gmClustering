{
 "cells": [
  {
   "cell_type": "markdown",
   "metadata": {},
   "source": [
    "# Partition Clustering tests"
   ]
  },
  {
   "cell_type": "code",
   "execution_count": 1,
   "metadata": {},
   "outputs": [],
   "source": [
    "import numpy as np\n",
    "import sys\n",
    "from sklearn.cluster import KMeans as sKMeans\n",
    "from math import atan2, cos, sin, sqrt\n",
    "import matplotlib.pyplot as plt\n",
    "\n",
    "%matplotlib inline\n",
    "%load_ext autoreload"
   ]
  },
  {
   "cell_type": "code",
   "execution_count": 2,
   "metadata": {},
   "outputs": [],
   "source": [
    "sys.path.append(\"/home/gmancini/Dropbox/appunti/Clustering/src\")\n",
    "import mdutils\n",
    "import myclusters\n",
    "import mymetrics\n",
    "%autoreload 2"
   ]
  },
  {
   "cell_type": "markdown",
   "metadata": {},
   "source": [
    "use distance of cities in the U. S. as reference dataset; convert coordinates to distances."
   ]
  },
  {
   "cell_type": "code",
   "execution_count": 3,
   "metadata": {},
   "outputs": [],
   "source": [
    "def distance(coord0,coord1,radius=6373.0):\n",
    "    dlon = coord1[1] - coord0[1]\n",
    "    dlat = coord1[0] - coord0[0]\n",
    "\n",
    "    a = sin(dlat / 2)**2 + cos(coord0[0]) * cos(coord1[0]) * sin(dlon / 2)**2\n",
    "    c = 2 * atan2(sqrt(a), sqrt(1 - a))\n",
    "\n",
    "    distance = radius * c"
   ]
  },
  {
   "cell_type": "markdown",
   "metadata": {},
   "source": [
    "#### load data for US cities"
   ]
  },
  {
   "cell_type": "code",
   "execution_count": 4,
   "metadata": {},
   "outputs": [
    {
     "data": {
      "text/plain": [
       "(300, 2)"
      ]
     },
     "execution_count": 4,
     "metadata": {},
     "output_type": "execute_result"
    }
   ],
   "source": [
    "import csv\n",
    "ifile = open(\"places.txt\")\n",
    "places = csv.reader(ifile)\n",
    "data = np.empty((300,2))\n",
    "for i,city in enumerate(places):\n",
    "    data[i] = city\n",
    "nplaces = data.shape[0]\n",
    "data.shape"
   ]
  },
  {
   "cell_type": "code",
   "execution_count": 5,
   "metadata": {},
   "outputs": [],
   "source": [
    "#convert to radians\n",
    "coords = (np.pi/180.)*data"
   ]
  },
  {
   "cell_type": "code",
   "execution_count": 6,
   "metadata": {},
   "outputs": [
    {
     "data": {
      "text/plain": [
       "(33.429424, 43.5093982, 0.5834535158452129, 0.7593822541512942)"
      ]
     },
     "execution_count": 6,
     "metadata": {},
     "output_type": "execute_result"
    }
   ],
   "source": [
    "np.min(data[:,1]),np.max(data[:,1]),np.min(coords[:,1]),np.max(coords[:,1])"
   ]
  },
  {
   "cell_type": "markdown",
   "metadata": {},
   "source": [
    "#### convert latitude / longitude to kilometric distances"
   ]
  },
  {
   "cell_type": "code",
   "execution_count": 7,
   "metadata": {},
   "outputs": [],
   "source": [
    "distances = np.zeros((nplaces,nplaces))\n",
    "for i in range(nplaces-1):\n",
    "    for j in range(i+1,nplaces):\n",
    "        distances[i,j] = distance(coords[i],coords[j])\n",
    "        distances[j,i] = distances[i,j]"
   ]
  },
  {
   "cell_type": "markdown",
   "metadata": {},
   "source": [
    "## PAM\n",
    "\n",
    "see Kaufman, L. and Rousseeuw, P.J. (1987), Clustering by means of Medoids, in Statistical Data Analysis Based on the {\\displaystyle L_{1}}L_{1}–Norm and Related Methods, edited by Y. Dodge, North-Holland, 405–416."
   ]
  },
  {
   "cell_type": "markdown",
   "metadata": {},
   "source": [
    "## settings"
   ]
  },
  {
   "cell_type": "code",
   "execution_count": 8,
   "metadata": {},
   "outputs": [],
   "source": [
    "nclusters = 3\n",
    "niter = 1000\n",
    "nrun = 20\n",
    "conv=1e-5\n",
    "metric = 'cityblock'"
   ]
  },
  {
   "cell_type": "markdown",
   "metadata": {},
   "source": [
    "### test PAM with random boot"
   ]
  },
  {
   "cell_type": "code",
   "execution_count": 9,
   "metadata": {
    "scrolled": false
   },
   "outputs": [
    {
     "name": "stdout",
     "output_type": "stream",
     "text": [
      "PAM\n"
     ]
    },
    {
     "data": {
      "text/plain": [
       "0.4049671164029833"
      ]
     },
     "execution_count": 9,
     "metadata": {},
     "output_type": "execute_result"
    }
   ],
   "source": [
    "my_estimator = myclusters.PAM(K=nclusters,niter=niter,nrun=nrun,boot='random',conv=1e-5,metric=metric)\n",
    "my_estimator.do_clustering(X=data)\n",
    "print(type(my_estimator).__name__)\n",
    "clusters = my_estimator.clusters\n",
    "my_estimator.inertia"
   ]
  },
  {
   "cell_type": "code",
   "execution_count": 10,
   "metadata": {},
   "outputs": [
    {
     "data": {
      "text/plain": [
       "(array([[ -80.8419492,   35.2262406],\n",
       "        [ -80.5250886,   43.477593 ],\n",
       "        [-112.0741097,   33.4505535]]), [81, 134, 156])"
      ]
     },
     "execution_count": 10,
     "metadata": {},
     "output_type": "execute_result"
    }
   ],
   "source": [
    "np.sort(data[my_estimator.centers]),sorted(my_estimator.centers)"
   ]
  },
  {
   "cell_type": "markdown",
   "metadata": {},
   "source": [
    "### test Voronoi iteration"
   ]
  },
  {
   "cell_type": "code",
   "execution_count": 11,
   "metadata": {
    "scrolled": false
   },
   "outputs": [
    {
     "name": "stdout",
     "output_type": "stream",
     "text": [
      "PAM\n"
     ]
    },
    {
     "data": {
      "text/plain": [
       "0.4192143926844856"
      ]
     },
     "execution_count": 11,
     "metadata": {},
     "output_type": "execute_result"
    }
   ],
   "source": [
    "my_estimator = myclusters.PAM(K=nclusters,niter=niter,nrun=nrun,boot='random',conv=1e-5,\\\n",
    "                               metric=metric,voronoi=True)\n",
    "my_estimator.do_clustering(X=data)\n",
    "print(type(my_estimator).__name__)\n",
    "clusters = my_estimator.clusters\n",
    "my_estimator.inertia"
   ]
  },
  {
   "cell_type": "code",
   "execution_count": 12,
   "metadata": {},
   "outputs": [
    {
     "data": {
      "text/plain": [
       "(array([[-112.0743321,   33.4580837],\n",
       "        [ -80.5238819,   43.4648096],\n",
       "        [ -80.8426239,   35.2284099]]), [48, 111, 252])"
      ]
     },
     "execution_count": 12,
     "metadata": {},
     "output_type": "execute_result"
    }
   ],
   "source": [
    "np.sort(data[my_estimator.centers]),sorted(my_estimator.centers)"
   ]
  },
  {
   "cell_type": "markdown",
   "metadata": {},
   "source": [
    "### boot with  kmeans++"
   ]
  },
  {
   "cell_type": "code",
   "execution_count": 13,
   "metadata": {
    "scrolled": true
   },
   "outputs": [
    {
     "name": "stdout",
     "output_type": "stream",
     "text": [
      "PAM\n"
     ]
    },
    {
     "data": {
      "text/plain": [
       "0.43544049402955426"
      ]
     },
     "execution_count": 13,
     "metadata": {},
     "output_type": "execute_result"
    }
   ],
   "source": [
    "my_estimator = myclusters.PAM(K=nclusters,niter=niter,nrun=nrun,boot='kmeans++',conv=1e-5,metric=metric)\n",
    "my_estimator.do_clustering(X=data)\n",
    "print(type(my_estimator).__name__)\n",
    "clusters = my_estimator.clusters\n",
    "my_estimator.inertia"
   ]
  },
  {
   "cell_type": "code",
   "execution_count": 14,
   "metadata": {},
   "outputs": [
    {
     "data": {
      "text/plain": [
       "(array([[ -80.84104   ,   35.2244979 ],\n",
       "        [ -80.53778116,   43.47278163],\n",
       "        [-112.073577  ,   33.44455   ]]), [91, 145, 188])"
      ]
     },
     "execution_count": 14,
     "metadata": {},
     "output_type": "execute_result"
    }
   ],
   "source": [
    "np.sort(data[my_estimator.centers]),sorted(my_estimator.centers)"
   ]
  },
  {
   "cell_type": "markdown",
   "metadata": {},
   "source": [
    "### PAM + preassigned centers"
   ]
  },
  {
   "cell_type": "code",
   "execution_count": 15,
   "metadata": {},
   "outputs": [
    {
     "name": "stdout",
     "output_type": "stream",
     "text": [
      "PAM\n"
     ]
    },
    {
     "data": {
      "text/plain": [
       "28020.33563492028"
      ]
     },
     "execution_count": 15,
     "metadata": {},
     "output_type": "execute_result"
    }
   ],
   "source": [
    "my_estimator = myclusters.PAM(K=nclusters,niter=niter*2,nrun=nrun,\\\n",
    "                               boot=np.array((0,1,2)),conv=1e-5,metric=metric)\n",
    "my_estimator.do_clustering(X=data,)\n",
    "print(type(my_estimator).__name__)\n",
    "clusters = my_estimator.clusters\n",
    "my_estimator.inertia"
   ]
  },
  {
   "cell_type": "code",
   "execution_count": 16,
   "metadata": {},
   "outputs": [
    {
     "data": {
      "text/plain": [
       "(array([[-112.0707922,   33.4516246],\n",
       "        [ -80.5398649,   43.4691285],\n",
       "        [-112.0739312,   33.4564905]]), [0, 2, 107])"
      ]
     },
     "execution_count": 16,
     "metadata": {},
     "output_type": "execute_result"
    }
   ],
   "source": [
    "np.sort(data[my_estimator.centers]),sorted(my_estimator.centers)"
   ]
  },
  {
   "cell_type": "markdown",
   "metadata": {},
   "source": [
    "## KMeans"
   ]
  },
  {
   "cell_type": "code",
   "execution_count": 17,
   "metadata": {},
   "outputs": [],
   "source": [
    "metric='euclidean'"
   ]
  },
  {
   "cell_type": "markdown",
   "metadata": {},
   "source": [
    "### test KMeans"
   ]
  },
  {
   "cell_type": "code",
   "execution_count": 18,
   "metadata": {},
   "outputs": [
    {
     "name": "stdout",
     "output_type": "stream",
     "text": [
      "KMeans\n"
     ]
    },
    {
     "data": {
      "text/plain": [
       "0.25756797823545885"
      ]
     },
     "execution_count": 18,
     "metadata": {},
     "output_type": "execute_result"
    }
   ],
   "source": [
    "my_estimator = myclusters.KMeans(K=nclusters,niter=niter,nrun=nrun,\\\n",
    "                               boot='random',conv=1e-5,metric=metric)\n",
    "my_estimator.do_clustering(X=data)\n",
    "print(type(my_estimator).__name__)\n",
    "clusters = my_estimator.clusters\n",
    "my_estimator.inertia"
   ]
  },
  {
   "cell_type": "code",
   "execution_count": 19,
   "metadata": {},
   "outputs": [
    {
     "data": {
      "text/plain": [
       "array([[-112.07160642,   33.46049013],\n",
       "       [ -80.52837166,   43.47624848],\n",
       "       [ -80.84422658,   35.21709692]])"
      ]
     },
     "execution_count": 19,
     "metadata": {},
     "output_type": "execute_result"
    }
   ],
   "source": [
    "np.sort(my_estimator.centers)"
   ]
  },
  {
   "cell_type": "markdown",
   "metadata": {},
   "source": [
    "### boot with kmeans++"
   ]
  },
  {
   "cell_type": "code",
   "execution_count": 20,
   "metadata": {},
   "outputs": [
    {
     "name": "stdout",
     "output_type": "stream",
     "text": [
      "KMeans\n"
     ]
    },
    {
     "data": {
      "text/plain": [
       "0.25756797823545885"
      ]
     },
     "execution_count": 20,
     "metadata": {},
     "output_type": "execute_result"
    }
   ],
   "source": [
    "my_estimator = myclusters.KMeans(K=nclusters,niter=niter,nrun=nrun,\\\n",
    "                               boot='kmeans++',conv=1e-5,metric=metric)\n",
    "my_estimator.do_clustering(X=data)\n",
    "print(type(my_estimator).__name__)\n",
    "clusters = my_estimator.clusters\n",
    "my_estimator.inertia"
   ]
  },
  {
   "cell_type": "code",
   "execution_count": 21,
   "metadata": {},
   "outputs": [
    {
     "data": {
      "text/plain": [
       "array([[ -80.84422658,   35.21709692],\n",
       "       [ -80.52837166,   43.47624848],\n",
       "       [-112.07160642,   33.46049013]])"
      ]
     },
     "execution_count": 21,
     "metadata": {},
     "output_type": "execute_result"
    }
   ],
   "source": [
    "np.sort(my_estimator.centers)"
   ]
  },
  {
   "cell_type": "markdown",
   "metadata": {},
   "source": [
    "### SciKit Learn reference"
   ]
  },
  {
   "cell_type": "code",
   "execution_count": 22,
   "metadata": {},
   "outputs": [
    {
     "name": "stdout",
     "output_type": "stream",
     "text": [
      "[0 0 0 0 2 2 1 0 0 1 0 1 2 0 1 1 1 0 1 2 2 2 2 1 0 2 0 2 0 0 2 1 0 0 0 1 2\n",
      " 0 2 1 1 1 1 1 1 2 0 1 0 0 2 1 0 1 2 1 0 1 2 1 0 2 1 0 2 1 1 0 2 1 2 0 1 2\n",
      " 0 0 0 1 2 0 0 1 0 2 0 0 2 0 2 0 2 2 0 2 2 2 1 1 0 0 0 2 0 0 1 1 0 2 0 0 2\n",
      " 1 0 2 0 0 2 0 2 2 1 1 0 2 1 2 1 2 1 2 1 2 1 0 0 2 2 0 0 2 1 1 0 2 1 1 1 0\n",
      " 1 1 2 1 1 2 2 2 2 2 1 1 2 0 2 0 1 2 2 2 2 2 2 0 0 1 1 0 2 1 1 2 0 2 1 1 2\n",
      " 1 1 2 0 2 1 1 0 0 0 1 0 0 1 0 2 0 1 0 2 1 0 2 1 1 2 1 1 0 2 2 0 2 0 2 0 2\n",
      " 2 2 1 1 1 0 1 0 0 1 1 2 2 1 0 1 0 1 0 0 1 1 1 1 1 1 1 0 1 1 2 2 2 2 1 0 1\n",
      " 0 2 0 1 2 2 0 2 0 2 0 2 1 0 1 2 2 0 0 2 2 1 1 1 1 2 2 1 2 2 0 2 0 1 0 2 0\n",
      " 0 0 2 0]\n"
     ]
    },
    {
     "data": {
      "text/plain": [
       "(array([[-112.07160642,   33.46049013],\n",
       "        [ -80.84422658,   35.21709692],\n",
       "        [ -80.52837166,   43.47624848]]), 0.2575679782354589)"
      ]
     },
     "execution_count": 22,
     "metadata": {},
     "output_type": "execute_result"
    }
   ],
   "source": [
    "estimator = sKMeans(n_clusters=nclusters,init='random',n_init=nrun,max_iter=niter, tol=conv)\n",
    "estimator.fit_predict(data)\n",
    "sk_centers = estimator.cluster_centers_\n",
    "sk_clusters = np.copy(estimator.labels_)\n",
    "print(sk_clusters)\n",
    "sk_centers,estimator.inertia_"
   ]
  },
  {
   "cell_type": "code",
   "execution_count": 23,
   "metadata": {},
   "outputs": [
    {
     "data": {
      "text/plain": [
       "(array([[-112.07160642,   33.46049013],\n",
       "        [ -80.84422658,   35.21709692],\n",
       "        [ -80.52837166,   43.47624848]]),\n",
       " array([[ -80.84422658,   35.21709692],\n",
       "        [ -80.52837166,   43.47624848],\n",
       "        [-112.07160642,   33.46049013]]))"
      ]
     },
     "execution_count": 23,
     "metadata": {},
     "output_type": "execute_result"
    }
   ],
   "source": [
    "np.sort(sk_centers),np.sort(my_estimator.centers)"
   ]
  },
  {
   "cell_type": "code",
   "execution_count": 31,
   "metadata": {},
   "outputs": [
    {
     "data": {
      "text/plain": [
       "-0.014371182698476592"
      ]
     },
     "execution_count": 31,
     "metadata": {},
     "output_type": "execute_result"
    }
   ],
   "source": [
    "estimator.inertia_- my_estimator.inertia"
   ]
  },
  {
   "cell_type": "markdown",
   "metadata": {},
   "source": [
    "### Kmeans + preassigned centers "
   ]
  },
  {
   "cell_type": "code",
   "execution_count": 25,
   "metadata": {},
   "outputs": [
    {
     "name": "stdout",
     "output_type": "stream",
     "text": [
      "KMeans\n"
     ]
    },
    {
     "data": {
      "text/plain": [
       "3415.9086059782926"
      ]
     },
     "execution_count": 25,
     "metadata": {},
     "output_type": "execute_result"
    }
   ],
   "source": [
    "my_estimator = myclusters.KMeans(K=nclusters,niter=niter*2,nrun=nrun,\\\n",
    "                               boot=np.array((0,1,2)),conv=1e-5,metric=metric)\n",
    "my_estimator.do_clustering(X=data)\n",
    "print(type(my_estimator).__name__)\n",
    "clusters = my_estimator.clusters\n",
    "my_estimator.inertia"
   ]
  },
  {
   "cell_type": "code",
   "execution_count": 26,
   "metadata": {},
   "outputs": [
    {
     "data": {
      "text/plain": [
       "array([[-112.0715955 ,   33.44936467],\n",
       "       [ -80.68629912,   39.3466727 ],\n",
       "       [-112.07162089,   33.47523782]])"
      ]
     },
     "execution_count": 26,
     "metadata": {},
     "output_type": "execute_result"
    }
   ],
   "source": [
    "np.sort(my_estimator.centers)"
   ]
  },
  {
   "cell_type": "markdown",
   "metadata": {},
   "source": [
    "test that inertia is equal to myvalidation.wss results"
   ]
  },
  {
   "cell_type": "code",
   "execution_count": 27,
   "metadata": {},
   "outputs": [
    {
     "data": {
      "text/plain": [
       "(2955.2548774070115, 3415.9086059782926, 0.0)"
      ]
     },
     "execution_count": 27,
     "metadata": {},
     "output_type": "execute_result"
    }
   ],
   "source": [
    "myeval = mymetrics.cluster_eval(X=data,clusters=my_estimator.clusters)\n",
    "psf,wss = myeval(method='psF')\n",
    "psf, wss, wss-my_estimator.inertia"
   ]
  },
  {
   "cell_type": "code",
   "execution_count": 28,
   "metadata": {
    "scrolled": true
   },
   "outputs": [
    {
     "data": {
      "text/plain": [
       "array([0, 0, 0, 2, 1, 1, 1, 0, 0, 1, 0, 1, 1, 2, 1, 1, 1, 2, 1, 1, 1, 1,\n",
       "       1, 1, 0, 1, 0, 1, 2, 0, 1, 1, 0, 0, 2, 1, 1, 0, 1, 1, 1, 1, 1, 1,\n",
       "       1, 1, 2, 1, 0, 2, 1, 1, 0, 1, 1, 1, 2, 1, 1, 1, 0, 1, 1, 2, 1, 1,\n",
       "       1, 0, 1, 1, 1, 0, 1, 1, 2, 2, 0, 1, 1, 0, 2, 1, 2, 1, 0, 2, 1, 0,\n",
       "       1, 0, 1, 1, 0, 1, 1, 1, 1, 1, 2, 0, 0, 1, 0, 0, 1, 1, 0, 1, 0, 0,\n",
       "       1, 1, 2, 1, 0, 0, 1, 0, 1, 1, 1, 1, 2, 1, 1, 1, 1, 1, 1, 1, 1, 1,\n",
       "       1, 0, 0, 1, 1, 0, 2, 1, 1, 1, 0, 1, 1, 1, 1, 2, 1, 1, 1, 1, 1, 1,\n",
       "       1, 1, 1, 1, 1, 1, 1, 2, 1, 0, 1, 1, 1, 1, 1, 1, 1, 0, 2, 1, 1, 0,\n",
       "       1, 1, 1, 1, 2, 1, 1, 1, 1, 1, 1, 1, 0, 1, 1, 1, 2, 0, 2, 1, 2, 0,\n",
       "       1, 2, 1, 2, 1, 2, 1, 1, 2, 1, 1, 1, 1, 1, 1, 0, 1, 1, 2, 1, 2, 1,\n",
       "       2, 1, 1, 1, 1, 1, 1, 0, 1, 2, 0, 1, 1, 1, 1, 1, 0, 1, 0, 1, 2, 0,\n",
       "       1, 1, 1, 1, 1, 1, 1, 0, 1, 1, 1, 1, 1, 1, 1, 0, 1, 2, 1, 0, 1, 1,\n",
       "       1, 2, 1, 0, 1, 0, 1, 1, 0, 1, 1, 1, 0, 0, 1, 1, 1, 1, 1, 1, 1, 1,\n",
       "       1, 1, 1, 2, 1, 2, 1, 2, 1, 2, 2, 2, 1, 2])"
      ]
     },
     "execution_count": 28,
     "metadata": {},
     "output_type": "execute_result"
    }
   ],
   "source": [
    "clusters"
   ]
  },
  {
   "cell_type": "markdown",
   "metadata": {},
   "source": [
    "## K-Medians"
   ]
  },
  {
   "cell_type": "code",
   "execution_count": 29,
   "metadata": {},
   "outputs": [
    {
     "data": {
      "text/plain": [
       "(0.2719391609339355, array([[ -80.52527257,   43.4723904 ],\n",
       "        [-112.07281044,   33.4561877 ],\n",
       "        [ -80.843388  ,   35.2270246 ]]))"
      ]
     },
     "execution_count": 29,
     "metadata": {},
     "output_type": "execute_result"
    }
   ],
   "source": [
    "my_estimator = myclusters.KMedians(K=nclusters,niter=niter,nrun=nrun,boot='random',conv=conv)\n",
    "my_estimator.do_clustering(X=data)\n",
    "my_estimator.inertia,my_estimator.centers"
   ]
  },
  {
   "cell_type": "code",
   "execution_count": 30,
   "metadata": {},
   "outputs": [
    {
     "data": {
      "text/plain": [
       "(0.2719391609339355, array([[-112.07281044,   33.4561877 ],\n",
       "        [ -80.52527257,   43.4723904 ],\n",
       "        [ -80.843388  ,   35.2270246 ]]))"
      ]
     },
     "execution_count": 30,
     "metadata": {},
     "output_type": "execute_result"
    }
   ],
   "source": [
    "my_estimator = myclusters.KMedians(K=nclusters,niter=niter,nrun=nrun,boot='kmeans++',conv=conv)\n",
    "my_estimator.do_clustering(X=data)\n",
    "my_estimator.inertia,my_estimator.centers"
   ]
  }
 ],
 "metadata": {
  "kernelspec": {
   "display_name": "Python 3",
   "language": "python",
   "name": "python3"
  },
  "language_info": {
   "codemirror_mode": {
    "name": "ipython",
    "version": 3
   },
   "file_extension": ".py",
   "mimetype": "text/x-python",
   "name": "python",
   "nbconvert_exporter": "python",
   "pygments_lexer": "ipython3",
   "version": "3.6.8"
  }
 },
 "nbformat": 4,
 "nbformat_minor": 2
}
