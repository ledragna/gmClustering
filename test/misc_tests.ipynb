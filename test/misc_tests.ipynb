{
 "cells": [
  {
   "cell_type": "code",
   "execution_count": 1,
   "metadata": {},
   "outputs": [],
   "source": [
    "import numpy as np\n",
    "import scipy.spatial.distance as distance\n",
    "import mdtraj as md\n",
    "import sys"
   ]
  },
  {
   "cell_type": "code",
   "execution_count": 2,
   "metadata": {},
   "outputs": [],
   "source": [
    "%load_ext autoreload"
   ]
  },
  {
   "cell_type": "code",
   "execution_count": 3,
   "metadata": {},
   "outputs": [],
   "source": [
    "sys.path.append(\"/home/gmancini/Dropbox/appunti/Clustering/src/\")\n",
    "import myclusters, mymetrics\n",
    "sys.path.append(\"/home/gmancini/devel/ML/sanz/HVL\")\n",
    "%autoreload 2"
   ]
  },
  {
   "cell_type": "markdown",
   "metadata": {},
   "source": [
    "**Test wss vs inertia**"
   ]
  },
  {
   "cell_type": "code",
   "execution_count": 4,
   "metadata": {},
   "outputs": [
    {
     "data": {
      "text/plain": [
       "(100, 100)"
      ]
     },
     "execution_count": 4,
     "metadata": {},
     "output_type": "execute_result"
    }
   ],
   "source": [
    "X = np.random.rand(100,3)\n",
    "d = distance.pdist(X)\n",
    "D = distance.squareform(d)\n",
    "D.shape"
   ]
  },
  {
   "cell_type": "code",
   "execution_count": 5,
   "metadata": {},
   "outputs": [
    {
     "data": {
      "text/plain": [
       "0.0"
      ]
     },
     "execution_count": 5,
     "metadata": {},
     "output_type": "execute_result"
    }
   ],
   "source": [
    "np.max(D-D.T)"
   ]
  },
  {
   "cell_type": "code",
   "execution_count": 6,
   "metadata": {},
   "outputs": [
    {
     "data": {
      "text/plain": [
       "(array([59, 59, 59, 10, 59, 59, 10, 59, 59, 59, 10, 59, 59, 10, 59, 59, 59,\n",
       "        59, 10, 59, 59, 10, 59, 10, 10, 59, 59, 59, 59, 59, 59, 59, 59, 59,\n",
       "        10, 10, 59, 59, 59, 10, 59, 59, 59, 59, 59, 10, 59, 59, 59, 59, 59,\n",
       "        59, 59, 59, 59, 10, 59, 59, 59, 59, 10, 10, 10, 10, 59, 59, 59, 59,\n",
       "        59, 59, 59, 59, 59, 10, 59, 59, 59, 10, 59, 59, 59, 59, 59, 59, 59,\n",
       "        59, 10, 59, 10, 10, 59, 10, 10, 59, 59, 59, 59, 10, 59, 59]),\n",
       " 22.99916620198309)"
      ]
     },
     "execution_count": 6,
     "metadata": {},
     "output_type": "execute_result"
    }
   ],
   "source": [
    "my_estimator = myclusters.PAM(D=D,K=2,niter=500,nrun=10,boot='kmeans++',conv=1e-5,metric='precomputed')\n",
    "my_estimator.do_clustering()\n",
    "my_estimator.clusters, my_estimator.inertia"
   ]
  },
  {
   "cell_type": "code",
   "execution_count": 7,
   "metadata": {},
   "outputs": [
    {
     "data": {
      "text/plain": [
       "(47.10064730382948, 22.99916620198309, 0.0)"
      ]
     },
     "execution_count": 7,
     "metadata": {},
     "output_type": "execute_result"
    }
   ],
   "source": [
    "myeval = mymetrics.cluster_eval(D=D,metric='precomputed',clusters=my_estimator.clusters)\n",
    "psf,wss = myeval(method='psF')\n",
    "psf, wss, wss-my_estimator.inertia"
   ]
  },
  {
   "cell_type": "markdown",
   "metadata": {},
   "source": [
    "**Test RMSD is symmetric**"
   ]
  },
  {
   "cell_type": "code",
   "execution_count": 8,
   "metadata": {},
   "outputs": [
    {
     "data": {
      "text/plain": [
       "<mdtraj.Trajectory with 2291 frames, 52 atoms, 1 residues, without unitcells at 0x7ff3393cf320>"
      ]
     },
     "execution_count": 8,
     "metadata": {},
     "output_type": "execute_result"
    }
   ],
   "source": [
    "traj = md.load(\"dftba/traj_hvl_dftba.pdb\")\n",
    "traj"
   ]
  },
  {
   "cell_type": "code",
   "execution_count": 9,
   "metadata": {},
   "outputs": [
    {
     "data": {
      "text/plain": [
       "(2291,)"
      ]
     },
     "execution_count": 9,
     "metadata": {},
     "output_type": "execute_result"
    }
   ],
   "source": [
    "rmsds = md.rmsd(traj, traj)\n",
    "rmsds.shape"
   ]
  },
  {
   "cell_type": "code",
   "execution_count": 10,
   "metadata": {},
   "outputs": [
    {
     "data": {
      "text/plain": [
       "[0, 1, 2, 3, 4, 5, 6, 7, 8, 9, 10, 11, 12, 13, 14, 15, 16, 17, 18, 19]"
      ]
     },
     "execution_count": 10,
     "metadata": {},
     "output_type": "execute_result"
    }
   ],
   "source": [
    "index=list(range(20))\n",
    "index"
   ]
  },
  {
   "cell_type": "code",
   "execution_count": 11,
   "metadata": {},
   "outputs": [
    {
     "data": {
      "text/plain": [
       "(2291, 2291)"
      ]
     },
     "execution_count": 11,
     "metadata": {},
     "output_type": "execute_result"
    }
   ],
   "source": [
    "RMSD = np.empty((2291,2291))\n",
    "for i in range(2291):\n",
    "    RMSD[i,i:] = md.rmsd(traj[i:],traj,i,precentered=False,atom_indices=index)\n",
    "RMSD.shape"
   ]
  },
  {
   "cell_type": "code",
   "execution_count": 12,
   "metadata": {},
   "outputs": [],
   "source": [
    "RMSD[np.tril_indices(2291)] = RMSD[np.triu_indices(2291)]"
   ]
  },
  {
   "cell_type": "code",
   "execution_count": 13,
   "metadata": {
    "scrolled": true
   },
   "outputs": [
    {
     "data": {
      "text/plain": [
       "(array([   0,    0,    0, ..., 2290, 2290, 2290]),\n",
       " array([   2,    3,    4, ..., 2286, 2287, 2288]))"
      ]
     },
     "execution_count": 13,
     "metadata": {},
     "output_type": "execute_result"
    }
   ],
   "source": [
    "np.nonzero(RMSD-RMSD.T)"
   ]
  },
  {
   "cell_type": "code",
   "execution_count": 14,
   "metadata": {},
   "outputs": [
    {
     "data": {
      "text/plain": [
       "0.32002362608909607"
      ]
     },
     "execution_count": 14,
     "metadata": {},
     "output_type": "execute_result"
    }
   ],
   "source": [
    "np.max(RMSD-RMSD.T)"
   ]
  },
  {
   "cell_type": "code",
   "execution_count": 15,
   "metadata": {},
   "outputs": [
    {
     "name": "stdout",
     "output_type": "stream",
     "text": [
      "[0.14171752 0.14171803 0.1724065  ... 0.1724298  0.17242268 0.11894155]\n"
     ]
    }
   ],
   "source": [
    "a = md.rmsd(traj,traj,10,precentered=False,atom_indices=index)\n",
    "print(a)"
   ]
  },
  {
   "cell_type": "code",
   "execution_count": 16,
   "metadata": {
    "scrolled": false
   },
   "outputs": [
    {
     "data": {
      "text/plain": [
       "(array([  10,   48,  112,  206,  320,  441,  471,  478,  503,  553,  558,\n",
       "         643,  671,  733,  882, 1116, 1455, 1463, 1743, 1915, 1929, 2009,\n",
       "        2086, 2166, 2178, 2219, 2252]),)"
      ]
     },
     "execution_count": 16,
     "metadata": {},
     "output_type": "execute_result"
    }
   ],
   "source": [
    "np.where(a==0)"
   ]
  },
  {
   "cell_type": "code",
   "execution_count": 17,
   "metadata": {},
   "outputs": [
    {
     "name": "stdout",
     "output_type": "stream",
     "text": [
      "[0.14172569 0.1417262  0.17241023 ... 0.17243436 0.17242697 0.11894806]\n"
     ]
    }
   ],
   "source": [
    "a = md.rmsd(traj,traj,48,precentered=False,atom_indices=index)\n",
    "print(a)"
   ]
  },
  {
   "cell_type": "code",
   "execution_count": 18,
   "metadata": {
    "scrolled": true
   },
   "outputs": [
    {
     "data": {
      "text/plain": [
       "(array([  10,   48,  112,  206,  320,  441,  471,  478,  503,  553,  558,\n",
       "         643,  671,  882, 1116, 1455, 1463, 1743, 1915, 1929, 2009, 2166,\n",
       "        2178, 2219, 2252]),)"
      ]
     },
     "execution_count": 18,
     "metadata": {},
     "output_type": "execute_result"
    }
   ],
   "source": [
    "np.where(a==0)"
   ]
  },
  {
   "cell_type": "code",
   "execution_count": 19,
   "metadata": {},
   "outputs": [
    {
     "data": {
      "text/plain": [
       "array([0.], dtype=float32)"
      ]
     },
     "execution_count": 19,
     "metadata": {},
     "output_type": "execute_result"
    }
   ],
   "source": [
    "md.rmsd(traj[48],traj,10,precentered=False,atom_indices=index)"
   ]
  },
  {
   "cell_type": "code",
   "execution_count": 20,
   "metadata": {},
   "outputs": [
    {
     "data": {
      "text/plain": [
       "array([0.], dtype=float32)"
      ]
     },
     "execution_count": 20,
     "metadata": {},
     "output_type": "execute_result"
    }
   ],
   "source": [
    "md.rmsd(traj[10],traj,48,precentered=False,atom_indices=index)"
   ]
  },
  {
   "cell_type": "code",
   "execution_count": 42,
   "metadata": {},
   "outputs": [],
   "source": [
    "def myrmsd(X1,X2,mask=None):\n",
    "    #Kabsch algorithm\n",
    "    #see https://cnx.org/contents/HV-RsdwL@23/Molecular-Distance-Measures\n",
    "    if mask is None:\n",
    "        mask = list(range(X1.shape[0]))\n",
    "    assert X1[mask].shape == X2[mask].shape\n",
    "    nat = len(mask)\n",
    "    Com1 = np.mean(X1[mask],axis=0)\n",
    "    Com2 = np.mean(X2[mask],axis=0)\n",
    "    C1 = X1[mask]-Com1\n",
    "    C2 = X2[mask]-Com2\n",
    "    Cov = np.dot(C1.T, C2)\n",
    "    V, S, W = np.linalg.svd(Cov)\n",
    "    d = np.sign(np.linalg.det(Cov))\n",
    "    D = np.eye(3)\n",
    "    D[2,2] = d\n",
    "    R = np.dot(V,np.dot(D,W))\n",
    "    rotC2 = np.dot(C2, R)\n",
    "    displ = np.mean(C1-rotC2,axis=0)\n",
    "    rotC2 = rotC2 -displ\n",
    "    dim = C2.shape[1]\n",
    "    rmsd = 0.\n",
    "    for v, w in zip(C1, rotC2):\n",
    "        rmsd = sum([(v[i] - w[i])**2.0 for i in range(dim)])\n",
    "    return np.sqrt(rmsd/nat)"
   ]
  },
  {
   "cell_type": "code",
   "execution_count": 43,
   "metadata": {},
   "outputs": [
    {
     "data": {
      "text/plain": [
       "3.334499765894962e-07"
      ]
     },
     "execution_count": 43,
     "metadata": {},
     "output_type": "execute_result"
    }
   ],
   "source": [
    "myrmsd(traj[10].xyz[0],traj[48].xyz[0])"
   ]
  },
  {
   "cell_type": "code",
   "execution_count": 44,
   "metadata": {},
   "outputs": [],
   "source": [
    "traj[10].save_pdb(\"test10.pdb\")\n",
    "traj[48].save_pdb(\"test48.pdb\")"
   ]
  },
  {
   "cell_type": "code",
   "execution_count": 45,
   "metadata": {},
   "outputs": [
    {
     "data": {
      "text/plain": [
       "(2291, 2291)"
      ]
     },
     "execution_count": 45,
     "metadata": {},
     "output_type": "execute_result"
    }
   ],
   "source": [
    "RMSD = np.empty((2291,2291))\n",
    "for i in range(2291):\n",
    "    for j in range(2291):\n",
    "        RMSD[i,j] = myrmsd(traj[i].xyz[0],traj[j].xyz[0],mask=index)\n",
    "RMSD.shape"
   ]
  },
  {
   "cell_type": "code",
   "execution_count": null,
   "metadata": {},
   "outputs": [],
   "source": []
  }
 ],
 "metadata": {
  "kernelspec": {
   "display_name": "Python 3",
   "language": "python",
   "name": "python3"
  },
  "language_info": {
   "codemirror_mode": {
    "name": "ipython",
    "version": 3
   },
   "file_extension": ".py",
   "mimetype": "text/x-python",
   "name": "python",
   "nbconvert_exporter": "python",
   "pygments_lexer": "ipython3",
   "version": "3.6.7"
  }
 },
 "nbformat": 4,
 "nbformat_minor": 2
}
