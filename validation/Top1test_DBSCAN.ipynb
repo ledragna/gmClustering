{
 "cells": [
  {
   "cell_type": "markdown",
   "metadata": {},
   "source": [
    "### Tests on Top1"
   ]
  },
  {
   "cell_type": "code",
   "execution_count": 1,
   "metadata": {
    "collapsed": true
   },
   "outputs": [],
   "source": [
    "# standard imports\n",
    "import matplotlib.pyplot as plt\n",
    "import numpy as np\n",
    "import scipy as sp\n",
    "from scipy.spatial.distance import cdist,pdist,squareform\n",
    "from sklearn import datasets, metrics\n",
    "from sklearn.cluster import DBSCAN\n",
    "from sklearn.neighbors import kneighbors_graph\n",
    "from scipy.stats import pearsonr\n",
    "from sklearn.manifold import MDS\n",
    "%matplotlib inline"
   ]
  },
  {
   "cell_type": "code",
   "execution_count": 2,
   "metadata": {},
   "outputs": [],
   "source": [
    "#my code\n",
    "#import custom functions and classes\n",
    "import myclusters2\n",
    "import mymetrics2\n",
    "import DBCV"
   ]
  },
  {
   "cell_type": "code",
   "execution_count": 3,
   "metadata": {},
   "outputs": [
    {
     "name": "stdout",
     "output_type": "stream",
     "text": [
      "#       hexdump -v -e '376/4 \"%06f \"' -e '\"\\n\"' rmsdm_hex.dat > rmsdm.dat\n"
     ]
    }
   ],
   "source": [
    "%%bash\n",
    "awk '/hexdump/' mymetrics2.py"
   ]
  },
  {
   "cell_type": "markdown",
   "metadata": {},
   "source": [
    "### Load Data and calculate size independent $\\rho$"
   ]
  },
  {
   "cell_type": "code",
   "execution_count": 7,
   "metadata": {},
   "outputs": [
    {
     "name": "stdout",
     "output_type": "stream",
     "text": [
      "/scratch/cherry_picking/top1_data\n"
     ]
    }
   ],
   "source": [
    "#data dir\n",
    "% cd /scratch/cherry_picking/top1_data\n",
    "#%cd /home/gmancini/Work/top1_data"
   ]
  },
  {
   "cell_type": "code",
   "execution_count": 8,
   "metadata": {},
   "outputs": [
    {
     "data": {
      "text/plain": [
       "(3599, 3599)"
      ]
     },
     "execution_count": 8,
     "metadata": {},
     "output_type": "execute_result"
    }
   ],
   "source": [
    "RawDist = np.loadtxt(\"2drms-raw.dat\")\n",
    "RawDist.shape"
   ]
  },
  {
   "cell_type": "code",
   "execution_count": 9,
   "metadata": {},
   "outputs": [
    {
     "data": {
      "text/plain": [
       "(3599, 3599)"
      ]
     },
     "execution_count": 9,
     "metadata": {},
     "output_type": "execute_result"
    }
   ],
   "source": [
    "FDist = np.loadtxt(\"2drms-fil.dat\")\n",
    "FDist.shape"
   ]
  },
  {
   "cell_type": "code",
   "execution_count": 10,
   "metadata": {},
   "outputs": [
    {
     "data": {
      "text/plain": [
       "(3599, 3599)"
      ]
     },
     "execution_count": 10,
     "metadata": {},
     "output_type": "execute_result"
    }
   ],
   "source": [
    "rgyr_raw = np.loadtxt(\"rgyr_raw.dat\")[:,1]\n",
    "rho_raw = myclusters2.size_indep_rho(RawDist,rgyr_raw)\n",
    "rho_raw.shape"
   ]
  },
  {
   "cell_type": "code",
   "execution_count": 11,
   "metadata": {},
   "outputs": [
    {
     "data": {
      "text/plain": [
       "(3599, 3599)"
      ]
     },
     "execution_count": 11,
     "metadata": {},
     "output_type": "execute_result"
    }
   ],
   "source": [
    "rgyr_f = np.loadtxt(\"rgyr_f.dat\")[:,1]\n",
    "rho_f = myclusters2.size_indep_rho(FDist,rgyr_f)\n",
    "rho_f.shape"
   ]
  },
  {
   "cell_type": "markdown",
   "metadata": {},
   "source": [
    "### Settings\n",
    "\n",
    "Settings for percentage of point, noise and metric"
   ]
  },
  {
   "cell_type": "code",
   "execution_count": 12,
   "metadata": {},
   "outputs": [
    {
     "name": "stdout",
     "output_type": "stream",
     "text": [
      "[ 17  35  53  71  89 107]\n"
     ]
    }
   ],
   "source": [
    "spacedef=\"precomputed\"\n",
    "usenoise=\"ignore\"\n",
    "percent = np.array((0.5,1.,1.5,2.,2.5,3.))/100.\n",
    "ndata = RawDist.shape[0]\n",
    "minPTS = (percent*ndata).astype(int)\n",
    "print(minPTS)\n",
    "nfeatures = 565*2"
   ]
  },
  {
   "cell_type": "markdown",
   "metadata": {},
   "source": [
    "### DBSCAN: raw"
   ]
  },
  {
   "cell_type": "code",
   "execution_count": 13,
   "metadata": {},
   "outputs": [
    {
     "name": "stdout",
     "output_type": "stream",
     "text": [
      "Using raw RMSD matrix\n",
      "\n",
      "############################\n",
      "\n",
      "minPTS, epsilon  17 0.126150300018\n",
      "Clusters, outliers: 13 {831: 32, 3075: 1407, 1860: 52, 389: 37, 1736: 207, 1161: 11, 1970: 21, 274: 29, 954: 140, 1947: 45, 1340: 147, -1: 1414, 1541: 57} 1414\n",
      "Median distance in cluster  274  =  0.132874249703 0.0308240146615\n",
      "Median distance in cluster  389  =  0.133424347699 0.0277201001197\n",
      "Median distance in cluster  831  =  0.137301732422 0.0319057181788\n",
      "Median distance in cluster  954  =  0.162021900102 0.0327697539081\n",
      "Median distance in cluster  1161  =  0.119350991736 0.0415298887489\n",
      "Median distance in cluster  1736  =  0.178500067353 0.0432194949033\n",
      "Median distance in cluster  1340  =  0.156573419686 0.027275158378\n",
      "Median distance in cluster  1541  =  0.144754931979 0.0302276939758\n",
      "Median distance in cluster  1860  =  0.147096986686 0.0299178755458\n",
      "Median distance in cluster  1947  =  0.140393407407 0.0280076440475\n",
      "Median distance in cluster  1970  =  0.125504848073 0.0314378570332\n",
      "Median distance in cluster  3075  =  0.193763991903 0.0396277491521\n",
      "Median distance in cluster  -1  =  0.415591355454 0.195103950534\n",
      "     Sil      DBI     Dunn      psF     DBCV\n",
      " -0.14396   1.39616   0.85758 1658.90406  -0.60711\n",
      " -0.08740   2.29966   0.52065 1007.14236  -0.60711\n",
      "Correl:  (0.99999907411356259, 9.258864374084299e-07)\n",
      "\n",
      "############################\n",
      "\n",
      "minPTS, epsilon  35 0.134320935038\n",
      "Clusters, outliers: 9 {1860: 36, 389: 51, 2967: 1461, 1736: 195, 2028: 61, 954: 191, 1340: 173, -1: 1382, 1541: 49} 1382\n",
      "Median distance in cluster  389  =  0.140354828912 0.0267708881905\n",
      "Median distance in cluster  954  =  0.169384739399 0.0334629628068\n",
      "Median distance in cluster  1736  =  0.172793762262 0.0388793146614\n",
      "Median distance in cluster  1340  =  0.162259702897 0.029275949283\n",
      "Median distance in cluster  1541  =  0.139855172012 0.0280076879679\n",
      "Median distance in cluster  1860  =  0.138655481481 0.0285212060293\n",
      "Median distance in cluster  2028  =  0.145892217146 0.0267745740742\n",
      "Median distance in cluster  2967  =  0.194123258623 0.0389218400117\n",
      "Median distance in cluster  -1  =  0.404618223141 0.193643101027\n",
      "     Sil      DBI     Dunn      psF     DBCV\n",
      " -0.09927   1.47358   1.06595 2303.88273  -0.61600\n",
      " -0.06115   2.39215   0.65663 1419.20200  -0.61600\n",
      "Correl:  (0.99999951294592915, 4.870540708523664e-07)\n",
      "\n",
      "############################\n",
      "\n",
      "minPTS, epsilon  53 0.139652457543\n",
      "Clusters, outliers: 5 {1192: 405, 1340: 179, 389: 68, -1: 1397, 2967: 1550} 1397\n",
      "Median distance in cluster  389  =  0.146623478806 0.026452629335\n",
      "Median distance in cluster  1192  =  0.198404945124 0.0484229955304\n",
      "Median distance in cluster  1340  =  0.164942828626 0.0310580514697\n",
      "Median distance in cluster  2967  =  0.196237373523 0.0391484265358\n",
      "Median distance in cluster  -1  =  0.40895849354 0.190942994296\n",
      "     Sil      DBI     Dunn      psF     DBCV\n",
      "  0.15186   0.83349   1.43200 4777.19728   0.01322\n",
      "  0.09291   1.36228   0.87615 2922.86424   0.01322\n",
      "Correl:  (0.99999996218723641, 3.7812763586941869e-08)\n",
      "\n",
      "############################\n",
      "\n",
      "minPTS, epsilon  71 0.143768551018\n",
      "Clusters, outliers: 4 {1192: 422, 1340: 190, -1: 1463, 2967: 1524} 1463\n",
      "Median distance in cluster  1192  =  0.197126262326 0.0460142071042\n",
      "Median distance in cluster  1340  =  0.167030700554 0.0319091043189\n",
      "Median distance in cluster  2967  =  0.195973075556 0.0396149438703\n",
      "Median distance in cluster  -1  =  0.411932890487 0.189833851751\n",
      "     Sil      DBI     Dunn      psF     DBCV\n",
      "  0.19041   0.66683   2.38008 7285.70667   0.01136\n",
      "  0.11301   1.12355   1.41257 4324.05375   0.01136\n",
      "Correl:  (0.99999998740481399, 1.259518600527088e-08)\n",
      "\n",
      "############################\n",
      "\n",
      "minPTS, epsilon  89 0.147193913774\n",
      "Clusters, outliers: 4 {1192: 432, 1340: 191, -1: 1426, 2967: 1550} 1426\n",
      "Median distance in cluster  1192  =  0.197544723712 0.0454274246324\n",
      "Median distance in cluster  1340  =  0.166823006332 0.0314991787745\n",
      "Median distance in cluster  2967  =  0.196560686775 0.0396258195972\n",
      "Median distance in cluster  -1  =  0.405545014638 0.1854328382\n",
      "     Sil      DBI     Dunn      psF     DBCV\n",
      "  0.20454   0.66804   2.37537 7274.67634   0.04454\n",
      "  0.12349   1.10643   1.43420 4392.29555   0.04454\n",
      "Correl:  (0.99999998860805717, 1.1391942833505199e-08)\n",
      "\n",
      "############################\n",
      "\n",
      "minPTS, epsilon  107 0.150165734625\n",
      "Clusters, outliers: 4 {1192: 418, 1340: 168, -1: 1441, 2967: 1572} 1441\n",
      "Median distance in cluster  1192  =  0.194025314221 0.042333092535\n",
      "Median distance in cluster  1340  =  0.160306442389 0.0278320456444\n",
      "Median distance in cluster  2967  =  0.197112742 0.039709865776\n",
      "Median distance in cluster  -1  =  0.401933915951 0.181493620962\n",
      "     Sil      DBI     Dunn      psF     DBCV\n",
      "  0.20013   0.65457   2.40415 6997.19877   0.06060\n",
      "  0.12000   1.09166   1.44155 4195.59738   0.06060\n",
      "Correl:  (0.99999998765315845, 1.2346841549160107e-08)\n",
      "[[  2.00133825e-01   1.20002443e-01]\n",
      " [  6.54572770e-01   1.09166237e+00]\n",
      " [  2.40414534e+00   1.44155200e+00]\n",
      " [  6.99719877e+03   4.19559738e+03]]\n"
     ]
    }
   ],
   "source": [
    "print(\"Using raw RMSD matrix\")\n",
    "for mp in minPTS:\n",
    "    VI = np.zeros((4,2))\n",
    "\n",
    "    ################\n",
    "    try:\n",
    "        G = kneighbors_graph(RawDist,mp,mode='distance',metric=spacedef)\n",
    "    except DeprecationWarning as e:\n",
    "        G = G.toarray()\n",
    "    epsilon = np.mean(G[np.nonzero(G)])\n",
    "    print(\"\\n############################\\n\")\n",
    "    print(\"minPTS, epsilon \",mp,epsilon)\n",
    "    ###############\n",
    "    estimator = DBSCAN(eps=epsilon, min_samples=mp,metric=spacedef)\n",
    "    init_clusters = estimator.fit_predict(RawDist)\n",
    "    centroids = mymetrics2.core2centers(D=RawDist,clusters=init_clusters)\n",
    "    Nclust = len(centroids)\n",
    "    if Nclust==1: continue\n",
    "    clusters  = mymetrics2.assign_centroid_label(init_clusters,centroids)\n",
    "    nout = len(init_clusters[init_clusters==-1])\n",
    "    size = [len(clusters[clusters==i]) for i in centroids]\n",
    "    Outcome = dict(zip(centroids,size))\n",
    "    print(\"Clusters, outliers:\",Nclust,Outcome,nout)\n",
    "    for cent in centroids:\n",
    "        points = clusters==cent\n",
    "        medd = np.mean(RawDist[points,:][:,points])\n",
    "        st = np.std(RawDist[points,:][:,points])\n",
    "        print(\"Median distance in cluster \",cent,\" = \",medd,st)\n",
    "    #################\n",
    "    dens_score = DBCV.DBCV(clusters=clusters,metric=spacedef,NF=nfeatures,D=rho_raw)\n",
    "    dbcv = dens_score.calc_score(meas='kernel')\n",
    "    #----------------\n",
    "    sil = metrics.silhouette_score(RawDist,clusters,metric=spacedef)\n",
    "    myeval = mymetrics2.cluster_eval(metric=spacedef,clusters=clusters,D=RawDist)\n",
    "    DBI = myeval(noise=usenoise,method=\"DBI\")\n",
    "    Dunn = myeval(noise=usenoise,method=\"Dunn\",inter=\"allav\",intra=\"allav\")\n",
    "    psf,wss = myeval(noise=usenoise,method=\"psF\",centroid=True)\n",
    "    norm = (ndata-nout)/ndata\n",
    "    print(\"%8s %8s %8s %8s %8s\" % (\"Sil\",\"DBI\",\"Dunn\",\"psF\",\"DBCV\"))\n",
    "    print(\"%9.5f %9.5f %9.5f %9.5f %9.5f\"%(sil,DBI,Dunn,psf,dbcv))\n",
    "    print(\"%9.5f %9.5f %9.5f %9.5f %9.5f\"%(sil*norm,DBI/norm,Dunn*norm,psf*norm,dbcv))\n",
    "    VI[0,0] = sil\n",
    "    VI[0,1] = sil*norm\n",
    "    VI[1,0] = DBI\n",
    "    VI[1,1] = DBI/norm\n",
    "    VI[2,0] = Dunn\n",
    "    VI[2,1] = Dunn*norm\n",
    "    VI[3,0] = psf\n",
    "    VI[3,1] = psf*norm\n",
    "    correl = pearsonr(VI[:,0],VI[:,1])\n",
    "    print(\"Correl: \",correl)\n",
    "print(VI)"
   ]
  },
  {
   "cell_type": "code",
   "execution_count": null,
   "metadata": {},
   "outputs": [],
   "source": [
    "RawDist[1192,1340]"
   ]
  },
  {
   "cell_type": "code",
   "execution_count": null,
   "metadata": {},
   "outputs": [],
   "source": [
    "\"\"\"myd = RawDist\n",
    "sc = MDS(3,verbose=1,dissimilarity=\"precomputed\")\n",
    "Y1 = sc.fit_transform(myd)\"\"\""
   ]
  },
  {
   "cell_type": "markdown",
   "metadata": {},
   "source": [
    "### DBSCAN:$\\rho_{raw}$"
   ]
  },
  {
   "cell_type": "code",
   "execution_count": null,
   "metadata": {},
   "outputs": [],
   "source": [
    "print(\"Using size independent rho\")\n",
    "for mp in minPTS:\n",
    "\n",
    "    ################\n",
    "    try:\n",
    "        G = kneighbors_graph(rho_raw,mp,mode='distance',metric=spacedef)\n",
    "    except DeprecationWarning as e:\n",
    "        G = G.toarray()\n",
    "    epsilon = np.mean(G[np.nonzero(G)])\n",
    "    print(\"\\n############################\\n\")\n",
    "    print(\"minPTS, epsilon \",mp,epsilon)\n",
    "    ###############\n",
    "    estimator = DBSCAN(eps=epsilon, min_samples=mp,metric=spacedef)\n",
    "    init_clusters = estimator.fit_predict(rho_raw)\n",
    "    centroids = mymetrics2.core2centers(D=rho_raw,clusters=init_clusters)\n",
    "    Nclust = len(centroids)\n",
    "    if Nclust==1: continue\n",
    "    clusters  = mymetrics2.assign_centroid_label(init_clusters,centroids)\n",
    "    nout = len(init_clusters[init_clusters==-1])\n",
    "    size = [len(clusters[clusters==i]) for i in centroids]\n",
    "    Outcome = dict(zip(centroids,size))\n",
    "    print(\"Clusters, outliers:\",Nclust,Outcome,nout)\n",
    "    #################\n",
    "    dens_score = DBCV.DBCV(clusters=clusters,metric=spacedef,NF=nfeatures,D=rho_raw)\n",
    "    dbcv = dens_score.calc_score(meas='kernel')\n",
    "    #----------------\n",
    "    sil = metrics.silhouette_score(rho_raw,clusters,metric=spacedef)\n",
    "    myeval = mymetrics2.cluster_eval(metric=spacedef,clusters=clusters,D=rho_raw)\n",
    "    DBI = myeval(noise=usenoise,method=\"DBI\")\n",
    "    Dunn = myeval(noise=usenoise,method=\"Dunn\",inter=\"allav\",intra=\"allav\")\n",
    "    psf,wss = myeval(noise=usenoise,method=\"psF\",centroid=True)\n",
    "    norm = (ndata-nout)/ndata\n",
    "    print(\"%8s %8s %8s %8s %8s\" % (\"Sil\",\"DBI\",\"Dunn\",\"psF\",\"DBCV\"))\n",
    "    print(\"%9.5f %9.5f %9.5f %9.5f %9.5f\"%(sil,DBI,Dunn,psf,dbcv))\n",
    "    print(\"%9.5f %9.5f %9.5f %9.5f %9.5f\"%(sil*norm,DBI/norm,Dunn*norm,psf*norm,dbcv))  "
   ]
  },
  {
   "cell_type": "markdown",
   "metadata": {},
   "source": [
    "### DBSCAN: filt"
   ]
  },
  {
   "cell_type": "code",
   "execution_count": null,
   "metadata": {},
   "outputs": [],
   "source": [
    "print(\"Using PCA/filt RMSD matrix\")\n",
    "for mp in minPTS:\n",
    "\n",
    "    ################\n",
    "    try:\n",
    "        G = kneighbors_graph(FDist,mp,mode='distance',metric=spacedef)\n",
    "    except DeprecationWarning as e:\n",
    "        G = G.toarray()\n",
    "    epsilon = np.mean(G[np.nonzero(G)])\n",
    "    print(\"\\n############################\\n\")\n",
    "    print(\"minPTS, epsilon \",mp,epsilon)\n",
    "    ###############\n",
    "    estimator = DBSCAN(eps=epsilon, min_samples=mp,metric=spacedef)\n",
    "    init_clusters = estimator.fit_predict(FDist)\n",
    "    centroids = mymetrics2.core2centers(D=FDist,clusters=init_clusters)\n",
    "    Nclust = len(centroids)\n",
    "    if Nclust==1: continue\n",
    "    clusters  = mymetrics2.assign_centroid_label(init_clusters,centroids)\n",
    "    nout = len(init_clusters[init_clusters==-1])\n",
    "    size = [len(clusters[clusters==i]) for i in centroids]\n",
    "    Outcome = dict(zip(centroids,size))\n",
    "    print(\"Clusters, outliers:\",Nclust,Outcome,nout)\n",
    "    #################\n",
    "    dens_score = DBCV.DBCV(clusters=clusters,metric=spacedef,NF=nfeatures,D=rho_raw)\n",
    "    dbcv = dens_score.calc_score(meas='kernel')\n",
    "    #----------------\n",
    "    sil = metrics.silhouette_score(FDist,clusters,metric=spacedef)\n",
    "    myeval = mymetrics2.cluster_eval(metric=spacedef,clusters=clusters,D=FDist)\n",
    "    DBI = myeval(noise=usenoise,method=\"DBI\")\n",
    "    Dunn = myeval(noise=usenoise,method=\"Dunn\",inter=\"allav\",intra=\"allav\")\n",
    "    psf,wss = myeval(noise=usenoise,method=\"psF\",centroid=True)\n",
    "    norm = (ndata-nout)/ndata\n",
    "    print(\"%8s %8s %8s %8s %8s\" % (\"Sil\",\"DBI\",\"Dunn\",\"psF\",\"DBCV\"))\n",
    "    print(\"%9.5f %9.5f %9.5f %9.5f %9.5f\"%(sil,DBI,Dunn,psf,dbcv))\n",
    "    print(\"%9.5f %9.5f %9.5f %9.5f %9.5f\"%(sil*norm,DBI/norm,Dunn*norm,psf*norm,dbcv))    "
   ]
  },
  {
   "cell_type": "markdown",
   "metadata": {},
   "source": [
    "### DBSCAN: $\\rho_{filt}$"
   ]
  },
  {
   "cell_type": "code",
   "execution_count": null,
   "metadata": {},
   "outputs": [],
   "source": [
    "print(\"Using size independent rho\")\n",
    "for mp in minPTS:\n",
    "\n",
    "    ################\n",
    "    try:\n",
    "        G = kneighbors_graph(rho_f,mp,mode='distance',metric=spacedef)\n",
    "    except DeprecationWarning as e:\n",
    "        G = G.toarray()\n",
    "    epsilon = np.mean(G[np.nonzero(G)])\n",
    "    print(\"\\n############################\\n\")\n",
    "    print(\"minPTS, epsilon \",mp,epsilon)\n",
    "    ###############\n",
    "    estimator = DBSCAN(eps=epsilon, min_samples=mp,metric=spacedef)\n",
    "    init_clusters = estimator.fit_predict(rho_f)\n",
    "    centroids = mymetrics2.core2centers(D=rho_f,clusters=init_clusters)\n",
    "    Nclust = len(centroids)\n",
    "    if Nclust==1: continue\n",
    "    clusters  = mymetrics2.assign_centroid_label(init_clusters,centroids)\n",
    "    nout = len(init_clusters[init_clusters==-1])\n",
    "    size = [len(clusters[clusters==i]) for i in centroids]\n",
    "    Outcome = dict(zip(centroids,size))\n",
    "    print(\"Clusters, outliers:\",Nclust,Outcome,nout)\n",
    "    #################\n",
    "    dens_score = DBCV.DBCV(clusters=clusters,metric=spacedef,NF=nfeatures,D=rho_raw)\n",
    "    dbcv = dens_score.calc_score(meas='kernel')\n",
    "    #----------------\n",
    "    sil = metrics.silhouette_score(rho_f,clusters,metric=spacedef)\n",
    "    myeval = mymetrics2.cluster_eval(metric=spacedef,clusters=clusters,D=rho_f)\n",
    "    DBI = myeval(noise=usenoise,method=\"DBI\")\n",
    "    Dunn = myeval(noise=usenoise,method=\"Dunn\",inter=\"allav\",intra=\"allav\")\n",
    "    psf,wss = myeval(noise=usenoise,method=\"psF\",centroid=True)\n",
    "    norm = (ndata-nout)/ndata\n",
    "    print(\"%8s %8s %8s %8s %8s\" % (\"Sil\",\"DBI\",\"Dunn\",\"psF\",\"DBCV\"))\n",
    "    print(\"%9.5f %9.5f %9.5f %9.5f %9.5f\"%(sil,DBI,Dunn,psf,dbcv))\n",
    "    print(\"%9.5f %9.5f %9.5f %9.5f %9.5f\"%(sil*norm,DBI/norm,Dunn*norm,psf*norm,dbcv))   "
   ]
  }
 ],
 "metadata": {
  "kernelspec": {
   "display_name": "Python 3",
   "language": "python",
   "name": "python3"
  },
  "language_info": {
   "codemirror_mode": {
    "name": "ipython",
    "version": 3
   },
   "file_extension": ".py",
   "mimetype": "text/x-python",
   "name": "python",
   "nbconvert_exporter": "python",
   "pygments_lexer": "ipython3",
   "version": "3.6.7"
  }
 },
 "nbformat": 4,
 "nbformat_minor": 1
}
