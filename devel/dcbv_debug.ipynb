{
 "cells": [
  {
   "cell_type": "code",
   "execution_count": 1,
   "metadata": {
    "collapsed": true,
    "deletable": true,
    "editable": true
   },
   "outputs": [],
   "source": [
    "#std modules\n",
    "import matplotlib.pyplot as plt\n",
    "import numpy as np\n",
    "import scipy as sp\n",
    "from scipy.spatial.distance import cdist,pdist,squareform\n",
    "from scipy.stats import pearsonr\n",
    "from sklearn import datasets,metrics\n",
    "from sklearn.cluster import DBSCAN\n",
    "import sklearn.preprocessing\n",
    "from sklearn.neighbors import kneighbors_graph\n",
    "\n",
    "%matplotlib inline"
   ]
  },
  {
   "cell_type": "code",
   "execution_count": 2,
   "metadata": {
    "collapsed": true,
    "deletable": true,
    "editable": true
   },
   "outputs": [],
   "source": [
    "#import custom functions and classes\n",
    "import myclusters2\n",
    "import mymetrics2\n",
    "import DBCV"
   ]
  },
  {
   "cell_type": "code",
   "execution_count": 3,
   "metadata": {
    "collapsed": false,
    "deletable": true,
    "editable": true
   },
   "outputs": [
    {
     "name": "stdout",
     "output_type": "stream",
     "text": [
      "[0 0 0 0 0 0 0 0 0 0 0 0 0 0 0 0 0 0 0 0 0 0 0 0 0 0 0 0 0 0 0 0 0 0 0 0 0\n",
      " 0 0 0 0 0 0 0 0 0 0 0 0 0 1 1 1 1 1 1 1 1 1 1 1 1 1 1 1 1 1 1 1 1 1 1 1 1\n",
      " 1 1 1 1 1 1 1 1 1 1 1 1 1 1 1 1 1 1 1 1 1 1 1 1 1 1 2 2 2 2 2 2 2 2 2 2 2\n",
      " 2 2 2 2 2 2 2 2 2 2 2 2 2 2 2 2 2 2 2 2 2 2 2 2 2 2 2 2 2 2 2 2 2 2 2 2 2\n",
      " 2 2]\n"
     ]
    }
   ],
   "source": [
    "#load iris data set\n",
    "iris = datasets.load_iris()\n",
    "Xns = iris.data\n",
    "y = iris.target\n",
    "print(y)\n",
    "#scale to mean=0 and unit variance\n",
    "X = sklearn.preprocessing.scale(Xns)\n",
    "D = squareform(pdist(X))"
   ]
  },
  {
   "cell_type": "code",
   "execution_count": 4,
   "metadata": {
    "collapsed": false,
    "deletable": true,
    "editable": true
   },
   "outputs": [
    {
     "data": {
      "text/plain": [
       "array([ 0,  0,  0,  0,  0, -1,  0,  0,  0,  0,  0,  0,  0,  0, -1, -1, -1,\n",
       "        0, -1,  0,  0,  0, -1,  0,  0,  0,  0,  0,  0,  0,  0,  0, -1, -1,\n",
       "        0,  0,  0,  0,  0,  0,  0, -1,  0,  0,  0,  0,  0,  0,  0,  0,  1,\n",
       "       -1,  1,  1,  1,  1, -1, -1,  1, -1, -1,  1, -1,  1,  1,  1,  1,  1,\n",
       "       -1,  1, -1,  1, -1,  1,  1,  1,  1,  1,  1,  1,  1,  1,  1, -1,  1,\n",
       "       -1,  1, -1,  1,  1,  1,  1,  1, -1,  1,  1,  1,  1, -1,  1, -1, -1,\n",
       "        1,  1,  1, -1, -1, -1, -1, -1,  1, -1,  1, -1, -1, -1,  1, -1, -1,\n",
       "       -1,  1, -1, -1, -1,  1, -1, -1, -1, -1, -1, -1, -1, -1,  1, -1, -1,\n",
       "       -1,  1, -1,  1,  1,  1, -1,  1,  1,  1, -1,  1, -1, -1])"
      ]
     },
     "execution_count": 4,
     "metadata": {},
     "output_type": "execute_result"
    }
   ],
   "source": [
    "minPTS = 4\n",
    "G = kneighbors_graph(X,minPTS,mode='distance',metric=\"euclidean\")\n",
    "G = G.toarray()\n",
    "epsilon = np.mean(G[np.nonzero(G)])\n",
    "estimator = DBSCAN(eps=epsilon, min_samples=minPTS,metric='euclidean')\n",
    "init_clusters = estimator.fit_predict(X)\n",
    "init_clusters"
   ]
  },
  {
   "cell_type": "code",
   "execution_count": 5,
   "metadata": {
    "collapsed": false,
    "deletable": true,
    "editable": true
   },
   "outputs": [
    {
     "data": {
      "text/plain": [
       "0.40955118779729105"
      ]
     },
     "execution_count": 5,
     "metadata": {},
     "output_type": "execute_result"
    }
   ],
   "source": [
    "dens_score = DBCV.DBCV(X=X,clusters=init_clusters,metric=\"euclidean\",NF=4,D=D)\n",
    "dbcv1 = dens_score.calc_score(meas='acore',cutoff='global')\n",
    "dbcv1"
   ]
  },
  {
   "cell_type": "code",
   "execution_count": 6,
   "metadata": {
    "collapsed": false,
    "deletable": true,
    "editable": true
   },
   "outputs": [
    {
     "data": {
      "text/plain": [
       "array([49, 49, 49, 49, 49, -1, 49, 49, 49, 49, 49, 49, 49, 49, -1, -1, -1,\n",
       "       49, -1, 49, 49, 49, -1, 49, 49, 49, 49, 49, 49, 49, 49, 49, -1, -1,\n",
       "       49, 49, 49, 49, 49, 49, 49, -1, 49, 49, 49, 49, 49, 49, 49, 49, 63,\n",
       "       -1, 63, 63, 63, 63, -1, -1, 63, -1, -1, 63, -1, 63, 63, 63, 63, 63,\n",
       "       -1, 63, -1, 63, -1, 63, 63, 63, 63, 63, 63, 63, 63, 63, 63, -1, 63,\n",
       "       -1, 63, -1, 63, 63, 63, 63, 63, -1, 63, 63, 63, 63, -1, 63, -1, -1,\n",
       "       63, 63, 63, -1, -1, -1, -1, -1, 63, -1, 63, -1, -1, -1, 63, -1, -1,\n",
       "       -1, 63, -1, -1, -1, 63, -1, -1, -1, -1, -1, -1, -1, -1, 63, -1, -1,\n",
       "       -1, 63, -1, 63, 63, 63, -1, 63, 63, 63, -1, 63, -1, -1])"
      ]
     },
     "execution_count": 6,
     "metadata": {},
     "output_type": "execute_result"
    }
   ],
   "source": [
    "centroids = mymetrics2.core2centers(X=X,clusters=init_clusters)\n",
    "clusters  = mymetrics2.assign_centroid_label(init_clusters,centroids)\n",
    "nout = len(init_clusters[init_clusters==-1])\n",
    "clusters"
   ]
  },
  {
   "cell_type": "code",
   "execution_count": 7,
   "metadata": {
    "collapsed": false,
    "deletable": true,
    "editable": true
   },
   "outputs": [
    {
     "name": "stdout",
     "output_type": "stream",
     "text": [
      "XXX\n"
     ]
    },
    {
     "data": {
      "text/plain": [
       "0.50899646985209868"
      ]
     },
     "execution_count": 7,
     "metadata": {},
     "output_type": "execute_result"
    }
   ],
   "source": [
    "dens_score = DBCV.DBCV(X=X,clusters=clusters,metric=\"euclidean\",NF=4,D=D)\n",
    "dbcv1 = dens_score.calc_score(meas='kernel',cutoff='global')\n",
    "dbcv1"
   ]
  },
  {
   "cell_type": "code",
   "execution_count": 8,
   "metadata": {
    "collapsed": false,
    "deletable": true,
    "editable": true
   },
   "outputs": [
    {
     "name": "stdout",
     "output_type": "stream",
     "text": [
      "XXX\n"
     ]
    },
    {
     "data": {
      "text/plain": [
       "0.29744162201256102"
      ]
     },
     "execution_count": 8,
     "metadata": {},
     "output_type": "execute_result"
    }
   ],
   "source": [
    "dens_score = DBCV.DBCV(X=X,clusters=clusters,metric=\"euclidean\",NF=4,D=D)\n",
    "dbcv1 = dens_score.calc_score(meas='kernel',cutoff='near')\n",
    "dbcv1"
   ]
  }
 ],
 "metadata": {
  "kernelspec": {
   "display_name": "Python 3",
   "language": "python",
   "name": "python3"
  },
  "language_info": {
   "codemirror_mode": {
    "name": "ipython",
    "version": 3
   },
   "file_extension": ".py",
   "mimetype": "text/x-python",
   "name": "python",
   "nbconvert_exporter": "python",
   "pygments_lexer": "ipython3",
   "version": "3.5.2"
  }
 },
 "nbformat": 4,
 "nbformat_minor": 2
}
