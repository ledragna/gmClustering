{
 "cells": [
  {
   "cell_type": "markdown",
   "metadata": {
    "deletable": true,
    "editable": true
   },
   "source": [
    "### Density Based Cluster Validation tests"
   ]
  },
  {
   "cell_type": "code",
   "execution_count": 1,
   "metadata": {
    "collapsed": true,
    "deletable": true,
    "editable": true
   },
   "outputs": [],
   "source": [
    "#std modules\n",
    "import matplotlib.pyplot as plt\n",
    "import numpy as np\n",
    "import scipy as sp\n",
    "from scipy.spatial.distance import cdist,pdist,squareform\n",
    "from scipy.stats import pearsonr\n",
    "from sklearn import datasets,metrics\n",
    "from sklearn.cluster import DBSCAN\n",
    "import sklearn.preprocessing\n",
    "from sklearn.neighbors import kneighbors_graph\n",
    "\n",
    "%matplotlib inline"
   ]
  },
  {
   "cell_type": "code",
   "execution_count": 2,
   "metadata": {
    "collapsed": false,
    "deletable": true,
    "editable": true
   },
   "outputs": [],
   "source": [
    "#import custom functions and classes\n",
    "import myclusters2\n",
    "import mymetrics2\n",
    "import DBCV"
   ]
  },
  {
   "cell_type": "code",
   "execution_count": 3,
   "metadata": {
    "collapsed": false,
    "deletable": true,
    "editable": true
   },
   "outputs": [],
   "source": [
    "def apts_coredist(nfeat,dist,npoints):\n",
    "    acore = np.zeros(npoints)\n",
    "    for i in range(npoints):\n",
    "        NN_i = dist[i]\n",
    "        NN_i = NN_i[NN_i>0.]\n",
    "        aa = (1./NN_i)**nfeat\n",
    "        acore[i] = (np.sum(aa)/(npoints-1))**(-1./nfeat)\n",
    "    return acore"
   ]
  },
  {
   "cell_type": "code",
   "execution_count": 4,
   "metadata": {
    "collapsed": true,
    "deletable": true,
    "editable": true
   },
   "outputs": [],
   "source": [
    "def kdens(dist,npoints):\n",
    "    cutoff = np.median(dist)\n",
    "    acore = np.zeros(npoints)\n",
    "    for i in range(npoints):\n",
    "        d = dist[i,:]\n",
    "        dens = np.sum(np.exp( -(d/cutoff)**2 ))-1\n",
    "        acore[i] = 1./dens\n",
    "    return acore"
   ]
  },
  {
   "cell_type": "markdown",
   "metadata": {
    "deletable": true,
    "editable": true
   },
   "source": [
    "### Test $a_{pts}coredist$ in 2D sphere"
   ]
  },
  {
   "cell_type": "code",
   "execution_count": 5,
   "metadata": {
    "collapsed": false,
    "deletable": true,
    "editable": true
   },
   "outputs": [
    {
     "name": "stdout",
     "output_type": "stream",
     "text": [
      "# of points inside  (793,)\n"
     ]
    },
    {
     "data": {
      "text/plain": [
       "<matplotlib.collections.PathCollection at 0x7f49f09ccf28>"
      ]
     },
     "execution_count": 5,
     "metadata": {},
     "output_type": "execute_result"
    },
    {
     "data": {
      "image/png": "[encoded data removed]",
      "text/plain": [
       "<matplotlib.figure.Figure at 0x7f49f2a0a320>"
      ]
     },
     "metadata": {},
     "output_type": "display_data"
    }
   ],
   "source": [
    "import random\n",
    "npoints = 1000\n",
    "#unit circle centered in .0, .0\n",
    "x = 2.*np.random.rand(npoints)-1\n",
    "y = 2.*np.random.rand(npoints)-1\n",
    "x = np.append(x,np.zeros(1))\n",
    "y = np.append(y,np.zeros(1))\n",
    "npoints += 1\n",
    "r = x**2+y**2\n",
    "print(\"# of points inside \",r[r<1.].shape)\n",
    "plt.scatter(x[r<1],y[r<1],marker='h',s=10,color='r')\n",
    "plt.scatter(x[-1],y[-1],marker='s',s=20,color='b')"
   ]
  },
  {
   "cell_type": "code",
   "execution_count": 6,
   "metadata": {
    "collapsed": false,
    "deletable": true,
    "editable": true
   },
   "outputs": [],
   "source": [
    "dist = np.zeros((npoints,npoints))\n",
    "for i in range(npoints-1):\n",
    "    dist[i,i] = 0.\n",
    "    for j in range(i+1,npoints):\n",
    "        v1 = np.array((x[i],y[i]))\n",
    "        v2 = np.array((x[j],y[j]))        \n",
    "        dist[i,j] = np.linalg.norm(v1-v2)\n",
    "        dist[j,i] = dist[i,j]"
   ]
  },
  {
   "cell_type": "code",
   "execution_count": 7,
   "metadata": {
    "collapsed": false,
    "deletable": true,
    "editable": true
   },
   "outputs": [
    {
     "name": "stdout",
     "output_type": "stream",
     "text": [
      "(793, 793)\n",
      "0.346110344167 0.00221999071579 0.387032634404 0.365339187767\n"
     ]
    }
   ],
   "source": [
    "dd = dist[r<=1.,:][:,r<=1.]\n",
    "NP = dd.shape[0]\n",
    "AC = apts_coredist(2,dd,NP)\n",
    "print(dd.shape)\n",
    "D0 = np.sort(dd[-1,:])\n",
    "KD = kdens(dd,NP)\n",
    "value = np.log(NP)**(-1/2)\n",
    "closest = int(NP/np.log(NP))\n",
    "knn = D0[closest]\n",
    "print(AC[-1],KD[-1],value,knn)"
   ]
  },
  {
   "cell_type": "code",
   "execution_count": 8,
   "metadata": {
    "collapsed": false,
    "deletable": true,
    "editable": true
   },
   "outputs": [
    {
     "data": {
      "text/plain": [
       "<matplotlib.collections.PathCollection at 0x7f49f01aa940>"
      ]
     },
     "execution_count": 8,
     "metadata": {},
     "output_type": "execute_result"
    },
    {
     "data": {
      "image/png": "[encoded data removed]",
      "text/plain": [
       "<matplotlib.figure.Figure at 0x7f49f09e4b70>"
      ]
     },
     "metadata": {},
     "output_type": "display_data"
    }
   ],
   "source": [
    "plt.scatter(np.arange(NP),AC)"
   ]
  },
  {
   "cell_type": "markdown",
   "metadata": {
    "deletable": true,
    "editable": true
   },
   "source": [
    "### Test $a_{pts}coredist$ in 4D hypersphere"
   ]
  },
  {
   "cell_type": "code",
   "execution_count": 9,
   "metadata": {
    "collapsed": false,
    "deletable": true,
    "editable": true
   },
   "outputs": [],
   "source": [
    "npoints = 1000\n",
    "#unit circle centered in .0, .0, 0., 0.\n",
    "w = 2.*np.random.rand(npoints)-1\n",
    "x = 2.*np.random.rand(npoints)-1\n",
    "y = 2.*np.random.rand(npoints)-1\n",
    "z = 2.*np.random.rand(npoints)-1\n",
    "w = np.append(w,np.zeros(1))\n",
    "x = np.append(x,np.zeros(1))\n",
    "y = np.append(y,np.zeros(1))\n",
    "z = np.append(z,np.zeros(1))\n",
    "npoints += 1\n",
    "r = w**2 + x**2 + y**2 + z**2\n",
    "dist = np.zeros((npoints,npoints))\n",
    "for i in range(npoints-1):\n",
    "    dist[i,i] = 0.\n",
    "    for j in range(i+1,npoints):\n",
    "        v1 = np.array((w[i],x[i],y[i],z[i]))\n",
    "        v2 = np.array((w[j],x[j],y[j],z[j]))\n",
    "        dist[i,j] = np.linalg.norm(v1-v2)\n",
    "        dist[j,i] = dist[i,j]"
   ]
  },
  {
   "cell_type": "code",
   "execution_count": 10,
   "metadata": {
    "collapsed": false,
    "deletable": true,
    "editable": true
   },
   "outputs": [
    {
     "name": "stdout",
     "output_type": "stream",
     "text": [
      "(309, 309)\n",
      "0.651773896999 0.00546097397169 0.646246273084 0.663648637584\n"
     ]
    }
   ],
   "source": [
    "dd=dist[r<=1.,:][:,r<=1.]\n",
    "NP = dd.shape[0]\n",
    "AC = apts_coredist(4,dd,NP)\n",
    "print(dd.shape)\n",
    "D0 = np.sort(dd[-1,:])\n",
    "KD = kdens(dd,NP)\n",
    "value = np.log(NP)**(-1/4)\n",
    "closest = int(NP/np.log(NP))\n",
    "knn = D0[closest]\n",
    "print(AC[-1],KD[-1],value,knn)"
   ]
  },
  {
   "cell_type": "markdown",
   "metadata": {
    "deletable": true,
    "editable": true
   },
   "source": [
    "### Test on Iris Data set"
   ]
  },
  {
   "cell_type": "code",
   "execution_count": 11,
   "metadata": {
    "collapsed": false,
    "deletable": true,
    "editable": true
   },
   "outputs": [
    {
     "name": "stdout",
     "output_type": "stream",
     "text": [
      "[0 0 0 0 0 0 0 0 0 0 0 0 0 0 0 0 0 0 0 0 0 0 0 0 0 0 0 0 0 0 0 0 0 0 0 0 0\n",
      " 0 0 0 0 0 0 0 0 0 0 0 0 0 1 1 1 1 1 1 1 1 1 1 1 1 1 1 1 1 1 1 1 1 1 1 1 1\n",
      " 1 1 1 1 1 1 1 1 1 1 1 1 1 1 1 1 1 1 1 1 1 1 1 1 1 1 2 2 2 2 2 2 2 2 2 2 2\n",
      " 2 2 2 2 2 2 2 2 2 2 2 2 2 2 2 2 2 2 2 2 2 2 2 2 2 2 2 2 2 2 2 2 2 2 2 2 2\n",
      " 2 2]\n"
     ]
    }
   ],
   "source": [
    "#load iris data set\n",
    "iris = datasets.load_iris()\n",
    "Xns = iris.data\n",
    "y = iris.target\n",
    "print(y)\n",
    "#scale to mean=0 and unit variance\n",
    "X = sklearn.preprocessing.scale(Xns)\n",
    "D = squareform(pdist(X))"
   ]
  },
  {
   "cell_type": "code",
   "execution_count": 12,
   "metadata": {
    "collapsed": false,
    "deletable": true,
    "editable": true,
    "scrolled": true
   },
   "outputs": [
    {
     "name": "stdout",
     "output_type": "stream",
     "text": [
      "minPTS, epsilon  4 0.435080988026\n",
      "     Sil      DBI     Dunn      psF     DBCV     DBCV       ARI\n",
      "  0.21187   0.51071   3.85499 430.67559   0.40955   0.50900    0.40841\n",
      "  0.13277   0.81496   2.41580 269.89004   0.40955   0.50900   0.40841\n",
      "minPTS, epsilon  5 0.462606110085\n",
      "     Sil      DBI     Dunn      psF     DBCV     DBCV       ARI\n",
      "  0.17152   0.67492   2.04681 377.03425  -0.64667  -0.48433    0.48169\n",
      "  0.11091   1.04369   1.32360 243.81548  -0.64667  -0.48433   0.48169\n",
      "minPTS, epsilon  6 0.487557844185\n",
      "     Sil      DBI     Dunn      psF     DBCV     DBCV       ARI\n",
      "  0.17664   0.70164   1.22787 292.90617  -0.66611  -0.65248    0.42363\n",
      "  0.12365   1.00235   0.85951 205.03432  -0.66611  -0.65248   0.42363\n",
      "minPTS, epsilon  7 0.510497630578\n",
      "     Sil      DBI     Dunn      psF     DBCV     DBCV       ARI\n",
      "  0.15014   0.92712   1.24131 234.03523  -0.67239  -0.71333    0.48817\n",
      "  0.10710   1.29970   0.88547 166.94513  -0.67239  -0.71333   0.48817\n",
      "minPTS, epsilon  8 0.531739621399\n",
      "     Sil      DBI     Dunn      psF     DBCV     DBCV       ARI\n",
      "  0.21459   0.70230   1.88790 396.00514  -0.55841  -0.66667    0.48307\n",
      "  0.14306   1.05346   1.25860 264.00343  -0.55841  -0.66667   0.48307\n",
      "minPTS, epsilon  9 0.551913231456\n",
      "     Sil      DBI     Dunn      psF     DBCV     DBCV       ARI\n",
      "  0.29215   0.50812   3.57787 435.44793  -0.71333  -0.71333    0.45294\n",
      "  0.20840   0.71232   2.55221 310.61952  -0.71333  -0.71333   0.45294\n",
      "minPTS, epsilon  10 0.570887353504\n",
      "     Sil      DBI     Dunn      psF     DBCV     DBCV       ARI\n",
      "  0.24574   0.68070   1.66662 363.89941  -0.71333  -0.71333    0.53444\n",
      "  0.17529   0.95425   1.18886 259.58158  -0.71333  -0.71333   0.53444\n"
     ]
    }
   ],
   "source": [
    "minPTS = tuple((4,5,6,7,8,9,10))\n",
    "for m in minPTS:\n",
    "    \n",
    "    ######\n",
    "    try:\n",
    "        G = kneighbors_graph(X,m,mode='distance',metric=\"euclidean\")\n",
    "    except DeprecationWarning as e:\n",
    "        G = G.toarray()\n",
    "    epsilon = np.mean(G[np.nonzero(G)])\n",
    "    print(\"minPTS, epsilon \",m,epsilon)\n",
    "    #######\n",
    "    estimator = DBSCAN(eps=epsilon, min_samples=m,metric='euclidean')\n",
    "    init_clusters = estimator.fit_predict(X)\n",
    "    centroids = mymetrics2.core2centers(X=X,clusters=init_clusters)\n",
    "    clusters  = mymetrics2.assign_centroid_label(init_clusters,centroids)\n",
    "    nout = len(init_clusters[init_clusters==-1])\n",
    "    #print(clusters,init_clusters,centroids,nout)\n",
    "    #print(\"Number of clusters, outliers:\",len(centroids),nout)\n",
    "    #print(\"CENTROIDS\",centroids)\n",
    "\n",
    "    #######\n",
    "    try:\n",
    "        dens_score = DBCV.DBCV(X=X,clusters=clusters,metric=\"euclidean\",NF=4,D=D)\n",
    "    except:\n",
    "        continue\n",
    "    dbcv = dens_score.calc_score(meas='acore')\n",
    "    \n",
    "    dens_score = DBCV.DBCV(X=X,clusters=clusters,metric=\"euclidean\",NF=4,D=D)\n",
    "    dbcv1 = dens_score.calc_score(meas='kernel',cutoff='global')\n",
    "    \n",
    "    #######\n",
    "    ARI = metrics.adjusted_rand_score(clusters,y)\n",
    "    \n",
    "    sil = metrics.silhouette_score(X,clusters,metric='euclidean')\n",
    "    myeval = mymetrics2.cluster_eval(metric='euclidean',clusters=clusters,X=X)\n",
    "    DBI = myeval(noise=\"ignore\",method=\"DBI\")\n",
    "    Dunn = myeval(noise=\"ignore\",method=\"Dunn\",inter=\"allav\",intra=\"allav\")\n",
    "    psf,wss = myeval(noise=\"ignore\",method=\"psF\",centroid=True)\n",
    "    norm = (len(y)-nout)/len(y)\n",
    "    print(\"%8s %8s %8s %8s %8s %8s  %8s\" % (\"Sil\",\"DBI\",\"Dunn\",\"psF\",\"DBCV\",\"DBCV\",\"ARI\"))\n",
    "    print(\"%9.5f %9.5f %9.5f %9.5f %9.5f %9.5f  %9.5f\"%(sil,DBI,Dunn,psf,dbcv,dbcv1,ARI))\n",
    "    print(\"%9.5f %9.5f %9.5f %9.5f %9.5f %9.5f %9.5f\"%(sil*norm,DBI/norm,Dunn*norm,psf*norm,dbcv,dbcv1,ARI))"
   ]
  }
 ],
 "metadata": {
  "kernelspec": {
   "display_name": "Python 3",
   "language": "python",
   "name": "python3"
  },
  "language_info": {
   "codemirror_mode": {
    "name": "ipython",
    "version": 3
   },
   "file_extension": ".py",
   "mimetype": "text/x-python",
   "name": "python",
   "nbconvert_exporter": "python",
   "pygments_lexer": "ipython3",
   "version": "3.5.1"
  }
 },
 "nbformat": 4,
 "nbformat_minor": 1
}
