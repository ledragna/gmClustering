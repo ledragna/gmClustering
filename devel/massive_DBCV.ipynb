{
 "cells": [
  {
   "cell_type": "code",
   "execution_count": 1,
   "metadata": {
    "collapsed": true
   },
   "outputs": [],
   "source": [
    "#std modules\n",
    "import matplotlib.pyplot as plt\n",
    "import numpy as np\n",
    "import scipy as sp\n",
    "from scipy.spatial.distance import cdist,pdist,squareform\n",
    "from scipy.stats import pearsonr\n",
    "from sklearn import datasets,metrics\n",
    "from sklearn.cluster import DBSCAN\n",
    "import sklearn.preprocessing\n",
    "\n",
    "%matplotlib inline"
   ]
  },
  {
   "cell_type": "code",
   "execution_count": 2,
   "metadata": {
    "collapsed": true
   },
   "outputs": [],
   "source": [
    "#import custom functions and classes\n",
    "import myclusters2\n",
    "import mymetrics2\n",
    "import DBCV"
   ]
  },
  {
   "cell_type": "code",
   "execution_count": 3,
   "metadata": {},
   "outputs": [
    {
     "name": "stdout",
     "output_type": "stream",
     "text": [
      "[0 0 0 0 0 0 0 0 0 0 0 0 0 0 0 0 0 0 0 0 0 0 0 0 0 0 0 0 0 0 0 0 0 0 0 0 0\n",
      " 0 0 0 0 0 0 0 0 0 0 0 0 0 1 1 1 1 1 1 1 1 1 1 1 1 1 1 1 1 1 1 1 1 1 1 1 1\n",
      " 1 1 1 1 1 1 1 1 1 1 1 1 1 1 1 1 1 1 1 1 1 1 1 1 1 1 2 2 2 2 2 2 2 2 2 2 2\n",
      " 2 2 2 2 2 2 2 2 2 2 2 2 2 2 2 2 2 2 2 2 2 2 2 2 2 2 2 2 2 2 2 2 2 2 2 2 2\n",
      " 2 2]\n"
     ]
    }
   ],
   "source": [
    "#load iris data set\n",
    "iris = datasets.load_iris()\n",
    "Xns = iris.data\n",
    "y = iris.target\n",
    "print(y)\n",
    "#scale to mean=0 and unit variance\n",
    "X = sklearn.preprocessing.scale(Xns)\n",
    "D = squareform(pdist(X))"
   ]
  },
  {
   "cell_type": "markdown",
   "metadata": {},
   "source": [
    "Scikit-learn docs show passing of noise points as a normal cluster to ARI, see [here](http://scikit-learn.org/stable/auto_examples/cluster/plot_dbscan.html#sphx-glr-auto-examples-cluster-plot-dbscan-py)"
   ]
  },
  {
   "cell_type": "code",
   "execution_count": 4,
   "metadata": {},
   "outputs": [
    {
     "name": "stdout",
     "output_type": "stream",
     "text": [
      "(4, 6, 8, 10, 12, 14, 16, 18, 20)\n"
     ]
    }
   ],
   "source": [
    "minPTS=tuple(range(4,21,2))\n",
    "print(minPTS)\n",
    "#minPTS=list()\n",
    "#minPTS.append(2)\n",
    "minD = np.min(D[D>0.])\n",
    "maxD = np.max(D)\n",
    "eps = np.linspace(minD,maxD,num=1000)\n",
    "#print(eps)"
   ]
  },
  {
   "cell_type": "code",
   "execution_count": 5,
   "metadata": {},
   "outputs": [
    {
     "name": "stdout",
     "output_type": "stream",
     "text": [
      "Doing minPTS= 4\n",
      "Doing minPTS= 6\n",
      "Doing minPTS= 8\n",
      "Doing minPTS= 10\n",
      "Doing minPTS= 12\n",
      "Doing minPTS= 14\n",
      "Doing minPTS= 16\n",
      "Doing minPTS= 18\n",
      "Doing minPTS= 20\n"
     ]
    }
   ],
   "source": [
    "RES = np.zeros((len(minPTS)*1000,5))\n",
    "count = 0\n",
    "for MM in minPTS:\n",
    "    print(\"Doing minPTS=\",MM)\n",
    "    for EE in eps:\n",
    "        estimator = DBSCAN(eps=EE, min_samples=MM,metric='euclidean')\n",
    "        init_clusters  = estimator.fit_predict(X)\n",
    "        centroids = mymetrics2.core2centers(X=X,clusters=init_clusters)\n",
    "        size = [len(init_clusters[init_clusters==i]) for i in list(set(init_clusters))]\n",
    "        #print(MM,EE,len(centroids),size)\n",
    "        try:\n",
    "            valid = DBCV.DBCV(clusters=init_clusters,metric=\"euclidean\",NF=4,D=D)\n",
    "        except:\n",
    "            continue\n",
    "        score = valid.calc_score(meas='acore')\n",
    "        kscore = valid.calc_score(meas='kernel')\n",
    "        #print(score,kscore)\n",
    "        ARI = metrics.adjusted_rand_score(init_clusters,y)\n",
    "        RES[count] = np.array((MM,EE,score,kscore,ARI))\n",
    "        count += 1\n",
    "        #break"
   ]
  },
  {
   "cell_type": "code",
   "execution_count": 6,
   "metadata": {},
   "outputs": [
    {
     "data": {
      "text/plain": [
       "<matplotlib.collections.PathCollection at 0x7f0f9e0c90b8>"
      ]
     },
     "execution_count": 6,
     "metadata": {},
     "output_type": "execute_result"
    },
    {
     "data": {
      "image/png": "[encoded data removed]",
      "text/plain": [
       "<matplotlib.figure.Figure at 0x7f0f9e113e80>"
      ]
     },
     "metadata": {},
     "output_type": "display_data"
    }
   ],
   "source": [
    "XX=np.arange(0,len(minPTS)*1000,1)\n",
    "Y1=RES[:,2]\n",
    "Y2=RES[:,3]\n",
    "plt.scatter(XX,Y1,marker='h',s=10,color='r')\n",
    "plt.scatter(XX,Y2,marker='s',s=10,color='b')"
   ]
  },
  {
   "cell_type": "code",
   "execution_count": 7,
   "metadata": {},
   "outputs": [
    {
     "name": "stdout",
     "output_type": "stream",
     "text": [
      "max DBCV_acore  0.447042304831\n",
      "max ARI  0.568115942029\n",
      "Best result DBCV acore [ 4.          0.53228633  0.4470423  -0.54242115  0.45750611]\n",
      "Best result DBCV kernel [ 4.          0.4487779   0.4038245   0.30586692  0.42723312]\n",
      "[False False False ..., False False False]\n",
      "(0.87768593796452365, 0.0)\n",
      "[False False False ..., False False False]\n",
      "(0.12333070317917959, 7.6346220603783732e-32)\n"
     ]
    }
   ],
   "source": [
    "print(\"max DBCV_acore \",np.nanmax(RES[:,2]))\n",
    "print(\"max ARI \",np.max(RES[:,4]))\n",
    "wheremax = np.nanargmax(RES[:,2])\n",
    "print(\"Best result DBCV acore\",RES[wheremax])\n",
    "wheremax = wheremax = np.nanargmax(RES[:,3])\n",
    "print(\"Best result DBCV kernel\",RES[wheremax])\n",
    "mask = np.isnan(RES[:,2])\n",
    "print(mask)\n",
    "print(pearsonr(RES[~mask,2],RES[~mask,4]))\n",
    "mask = np.isnan(RES[:,3])\n",
    "print(pearsonr(RES[~mask,3],RES[~mask,4]))"
   ]
  },
  {
   "cell_type": "code",
   "execution_count": null,
   "metadata": {
    "collapsed": true
   },
   "outputs": [],
   "source": []
  }
 ],
 "metadata": {
  "kernelspec": {
   "display_name": "Python 3",
   "language": "python",
   "name": "python3"
  },
  "language_info": {
   "codemirror_mode": {
    "name": "ipython",
    "version": 3
   },
   "file_extension": ".py",
   "mimetype": "text/x-python",
   "name": "python",
   "nbconvert_exporter": "python",
   "pygments_lexer": "ipython3",
   "version": "3.6.7"
  }
 },
 "nbformat": 4,
 "nbformat_minor": 1
}
