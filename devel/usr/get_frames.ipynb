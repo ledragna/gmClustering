{
 "cells": [
  {
   "cell_type": "code",
   "execution_count": 1,
   "metadata": {
    "collapsed": true
   },
   "outputs": [],
   "source": [
    "import numpy as np\n",
    "import mdtraj as md\n",
    "import sys\n",
    "import scipy.spatial.distance as sd\n",
    "\n",
    "%load_ext autoreload"
   ]
  },
  {
   "cell_type": "code",
   "execution_count": 2,
   "metadata": {
    "collapsed": true
   },
   "outputs": [],
   "source": [
    "sys.path.append(\"../src\")\n",
    "import mdutils"
   ]
  },
  {
   "cell_type": "markdown",
   "metadata": {},
   "source": [
    "## Load one frame"
   ]
  },
  {
   "cell_type": "code",
   "execution_count": 3,
   "metadata": {
    "collapsed": true
   },
   "outputs": [],
   "source": [
    "frames=[0]"
   ]
  },
  {
   "cell_type": "code",
   "execution_count": 4,
   "metadata": {
    "collapsed": true
   },
   "outputs": [],
   "source": [
    "xtc=\"/media/gmancini/09e994f6-73c1-425f-b9e7-19fb6b78e81d/perDaniele/dpap_acn/dpap_nofit_50ps.xtc\""
   ]
  },
  {
   "cell_type": "code",
   "execution_count": 5,
   "metadata": {},
   "outputs": [],
   "source": [
    "traj = md.load_xtc(xtc,top=\"dpap.pdb\")"
   ]
  },
  {
   "cell_type": "code",
   "execution_count": 6,
   "metadata": {},
   "outputs": [],
   "source": [
    "t1 = md.load(xtc,top=\"dpap.pdb\")"
   ]
  },
  {
   "cell_type": "markdown",
   "metadata": {},
   "source": [
    "## USR with python"
   ]
  },
  {
   "cell_type": "code",
   "execution_count": 7,
   "metadata": {
    "scrolled": true
   },
   "outputs": [
    {
     "data": {
      "text/plain": [
       "array([ 3.52338505,  1.9072113 , -0.04419642,  3.52069759,  2.02775598,\n",
       "       -0.02953482,  7.0710125 ,  8.00575256, -0.71939838,  6.10679531,\n",
       "        7.28107214, -0.35685107])"
      ]
     },
     "execution_count": 7,
     "metadata": {},
     "output_type": "execute_result"
    }
   ],
   "source": [
    "mdutils.USR(t1.xyz[0]*10)"
   ]
  },
  {
   "cell_type": "markdown",
   "metadata": {},
   "source": [
    " ## with C -- gsl\n",
    "USR 0 3.522218 USR 1 1.906352 USR 2 -0.042134  \n",
    "USR 3 3.519562 USR 4 2.027721 USR 5 -0.027561  \n",
    "USR 6 7.068914 USR 7 7.996982 USR 8 -0.690029  \n",
    "USR 9 7.068914 USR 10 7.996982 USR 11 -0.690029  "
   ]
  },
  {
   "cell_type": "markdown",
   "metadata": {},
   "source": [
    "## with swig"
   ]
  },
  {
   "cell_type": "code",
   "execution_count": 8,
   "metadata": {},
   "outputs": [],
   "source": [
    "import pyusr\n",
    "%autoreload 2"
   ]
  },
  {
   "cell_type": "code",
   "execution_count": 9,
   "metadata": {},
   "outputs": [
    {
     "data": {
      "text/plain": [
       "(36, 3)"
      ]
     },
     "execution_count": 9,
     "metadata": {},
     "output_type": "execute_result"
    }
   ],
   "source": [
    "t1.xyz[0].shape"
   ]
  },
  {
   "cell_type": "code",
   "execution_count": 10,
   "metadata": {},
   "outputs": [
    {
     "data": {
      "text/plain": [
       "array([ 3.52338514,  1.96170341, -0.0441967 ,  3.52069773,  2.08569178,\n",
       "       -0.02953503,  7.07101232,  8.23448879, -0.71939817,  6.10679558,\n",
       "        7.48910217, -0.35685139])"
      ]
     },
     "execution_count": 10,
     "metadata": {},
     "output_type": "execute_result"
    }
   ],
   "source": [
    "usr = np.zeros(12)\n",
    "weights = np.ones(traj.n_atoms)\n",
    "pyusr.pyUSR(t1.xyz[0]*10,weights,usr)\n",
    "usr"
   ]
  },
  {
   "cell_type": "code",
   "execution_count": 11,
   "metadata": {},
   "outputs": [
    {
     "data": {
      "text/plain": [
       "array([ 3.52338514,  1.96170341, -0.0441967 ,  3.52069773,  2.08569178,\n",
       "       -0.02953503,  7.07101232,  8.23448879, -0.71939817,  6.10679558,\n",
       "        7.48910217, -0.35685139])"
      ]
     },
     "execution_count": 11,
     "metadata": {},
     "output_type": "execute_result"
    }
   ],
   "source": [
    "usr0 = np.zeros(12)\n",
    "weights = np.ones(traj.n_atoms)\n",
    "pyusr.pyUSR(traj.xyz[0]*10,weights,usr0)\n",
    "usr0"
   ]
  },
  {
   "cell_type": "code",
   "execution_count": 12,
   "metadata": {},
   "outputs": [
    {
     "data": {
      "text/plain": [
       "array([ 3.52978029,  1.96852396, -0.07015161,  3.52844645,  2.08421963,\n",
       "       -0.04594247,  6.97973474,  8.18035835, -0.63081109,  6.10103075,\n",
       "        7.21549851, -0.47214786])"
      ]
     },
     "execution_count": 12,
     "metadata": {},
     "output_type": "execute_result"
    }
   ],
   "source": [
    "usr1 = np.zeros(12)\n",
    "pyusr.pyUSR(traj.xyz[1]*10,weights,usr1)\n",
    "usr1"
   ]
  },
  {
   "cell_type": "code",
   "execution_count": 13,
   "metadata": {},
   "outputs": [
    {
     "data": {
      "text/plain": [
       "array([ 3.53867139,  2.00874972, -0.06398454,  3.53401192,  2.10396581,\n",
       "       -0.04470314,  7.06448578,  8.23529527, -0.69706468,  6.13282231,\n",
       "        7.13771997, -0.50579397])"
      ]
     },
     "execution_count": 13,
     "metadata": {},
     "output_type": "execute_result"
    }
   ],
   "source": [
    "usr2 = np.zeros(12)\n",
    "pyusr.pyUSR(traj.xyz[2]*10,weights,usr2)\n",
    "usr2"
   ]
  },
  {
   "cell_type": "code",
   "execution_count": 14,
   "metadata": {},
   "outputs": [
    {
     "name": "stdout",
     "output_type": "stream",
     "text": [
      "0.693458963376\n",
      "0.684894748751\n",
      "0.430992694828\n"
     ]
    }
   ],
   "source": [
    "print(sd.cityblock(usr0,usr1))\n",
    "print(sd.cityblock(usr0,usr2))\n",
    "print(sd.cityblock(usr1,usr2))"
   ]
  },
  {
   "cell_type": "code",
   "execution_count": 15,
   "metadata": {},
   "outputs": [
    {
     "data": {
      "text/plain": [
       "(3, 36, 3)"
      ]
     },
     "execution_count": 15,
     "metadata": {},
     "output_type": "execute_result"
    }
   ],
   "source": [
    "traj.xyz[:3].shape"
   ]
  },
  {
   "cell_type": "code",
   "execution_count": 17,
   "metadata": {},
   "outputs": [],
   "source": [
    "USR = np.zeros((3,3))\n",
    "pyusr.pyUSRmat(traj.xyz[:3]*10,USR,weights,1)"
   ]
  },
  {
   "cell_type": "code",
   "execution_count": 18,
   "metadata": {
    "scrolled": true
   },
   "outputs": [
    {
     "data": {
      "text/plain": [
       "array([[ 0.        ,  0.69345896,  0.68489475],\n",
       "       [ 0.        ,  0.        ,  0.43099269],\n",
       "       [ 0.        ,  0.        ,  0.        ]])"
      ]
     },
     "execution_count": 18,
     "metadata": {},
     "output_type": "execute_result"
    }
   ],
   "source": [
    "USR"
   ]
  },
  {
   "cell_type": "code",
   "execution_count": 19,
   "metadata": {},
   "outputs": [
    {
     "data": {
      "text/plain": [
       "(10001, 36, 3)"
      ]
     },
     "execution_count": 19,
     "metadata": {},
     "output_type": "execute_result"
    }
   ],
   "source": [
    "traj.xyz.shape"
   ]
  },
  {
   "cell_type": "code",
   "execution_count": 20,
   "metadata": {},
   "outputs": [],
   "source": [
    "USR = np.zeros((10001,10001))\n",
    "pyusr.pyUSRmat(traj.xyz,USR,weights,8)"
   ]
  },
  {
   "cell_type": "code",
   "execution_count": 21,
   "metadata": {
    "scrolled": true
   },
   "outputs": [
    {
     "data": {
      "text/plain": [
       "(50005000,)"
      ]
     },
     "execution_count": 21,
     "metadata": {},
     "output_type": "execute_result"
    }
   ],
   "source": [
    "USR = USR[np.triu_indices(10000)]\n",
    "USR.shape"
   ]
  },
  {
   "cell_type": "code",
   "execution_count": 22,
   "metadata": {
    "collapsed": true
   },
   "outputs": [],
   "source": [
    "import matplotlib.pyplot as plt"
   ]
  },
  {
   "cell_type": "code",
   "execution_count": 23,
   "metadata": {},
   "outputs": [],
   "source": [
    "n,b,p = plt.hist(USR,bins=50)"
   ]
  },
  {
   "cell_type": "code",
   "execution_count": 25,
   "metadata": {},
   "outputs": [
    {
     "data": {
      "image/png": "[encoded data removed]",
      "text/plain": [
       "<matplotlib.figure.Figure at 0x7fd75f4fcb00>"
      ]
     },
     "metadata": {},
     "output_type": "display_data"
    }
   ],
   "source": [
    "plt.plot(n)\n",
    "plt.show()"
   ]
  }
 ],
 "metadata": {
  "kernelspec": {
   "display_name": "Python 3",
   "language": "python",
   "name": "python3"
  },
  "language_info": {
   "codemirror_mode": {
    "name": "ipython",
    "version": 3
   },
   "file_extension": ".py",
   "mimetype": "text/x-python",
   "name": "python",
   "nbconvert_exporter": "python",
   "pygments_lexer": "ipython3",
   "version": "3.6.3"
  }
 },
 "nbformat": 4,
 "nbformat_minor": 2
}
