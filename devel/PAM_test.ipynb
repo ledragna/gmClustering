{
 "cells": [
  {
   "cell_type": "code",
   "execution_count": 1,
   "metadata": {},
   "outputs": [],
   "source": [
    "import numpy as np\n",
    "import sys\n",
    "from sklearn.cluster import KMeans as sKMeans\n",
    "from sklearn_extra.cluster import KMedoids\n",
    "from math import atan2, cos, sin, sqrt\n",
    "import matplotlib.pyplot as plt\n",
    "from random import sample\n",
    "import scipy as sp\n",
    "\n",
    "%matplotlib inline\n",
    "%load_ext autoreload"
   ]
  },
  {
   "cell_type": "code",
   "execution_count": 2,
   "metadata": {},
   "outputs": [],
   "source": [
    "sys.path.append(\"/home/gmancini/Dropbox/appunti/Clustering/src\")\n",
    "import mdutils\n",
    "import myclusters\n",
    "import mymetrics\n",
    "%autoreload 2"
   ]
  },
  {
   "cell_type": "code",
   "execution_count": 3,
   "metadata": {},
   "outputs": [
    {
     "data": {
      "text/plain": [
       "array([[1, 1],\n",
       "       [1, 2],\n",
       "       [1, 3],\n",
       "       [2, 1],\n",
       "       [2, 2],\n",
       "       [3, 1],\n",
       "       [3, 2],\n",
       "       [3, 3],\n",
       "       [2, 3],\n",
       "       [5, 5],\n",
       "       [6, 5],\n",
       "       [7, 5],\n",
       "       [4, 6],\n",
       "       [5, 6],\n",
       "       [6, 6],\n",
       "       [5, 7],\n",
       "       [6, 7],\n",
       "       [7, 7]])"
      ]
     },
     "execution_count": 3,
     "metadata": {},
     "output_type": "execute_result"
    }
   ],
   "source": [
    "data = np.array(((1,1),(1,2),(1,3),(2,1),(2,2),(3,1),(3,2),(3,3),(2,3),\\\n",
    "                (5,5),(6,5),(7,5),(4,6),(5,6),(6,6),(5,7),(6,7),(7,7)))\n",
    "data.shape = (18,2)\n",
    "data"
   ]
  },
  {
   "cell_type": "code",
   "execution_count": 4,
   "metadata": {},
   "outputs": [
    {
     "data": {
      "text/plain": [
       "<matplotlib.collections.PathCollection at 0x7f8a29b9a128>"
      ]
     },
     "execution_count": 4,
     "metadata": {},
     "output_type": "execute_result"
    },
    {
     "data": {
      "image/png": "[encoded data removed]",
      "text/plain": [
       "<matplotlib.figure.Figure at 0x7f8a2b218940>"
      ]
     },
     "metadata": {},
     "output_type": "display_data"
    }
   ],
   "source": [
    "plt.scatter(data[:,0],data[:,1])"
   ]
  },
  {
   "cell_type": "code",
   "execution_count": 5,
   "metadata": {},
   "outputs": [],
   "source": [
    "D = sp.spatial.distance.squareform(sp.spatial.distance.pdist(data,metric='cityblock'))"
   ]
  },
  {
   "cell_type": "code",
   "execution_count": 6,
   "metadata": {},
   "outputs": [
    {
     "data": {
      "text/plain": [
       "masked_array(data=[0, 1, 2, 3, 4, 5, 6, --, 8, 9, 10, 11, 12, 13, 14, 15,\n",
       "                   --, 17],\n",
       "             mask=[False, False, False, False, False, False, False,  True,\n",
       "                   False, False, False, False, False, False, False, False,\n",
       "                    True, False],\n",
       "       fill_value=999999)"
      ]
     },
     "execution_count": 6,
     "metadata": {},
     "output_type": "execute_result"
    }
   ],
   "source": [
    "a = np.arange(18,dtype='int')\n",
    "mask = np.zeros(18,dtype='int')\n",
    "mask[7] = 1\n",
    "mask[16] = 1\n",
    "U = np.ma.array(a,mask=mask)\n",
    "U"
   ]
  },
  {
   "cell_type": "code",
   "execution_count": 7,
   "metadata": {},
   "outputs": [
    {
     "name": "stdout",
     "output_type": "stream",
     "text": [
      "0 0\n",
      "1 1\n",
      "2 2\n",
      "3 3\n",
      "4 4\n",
      "5 5\n",
      "6 6\n",
      "7 8\n",
      "8 9\n",
      "9 10\n",
      "10 11\n",
      "11 12\n",
      "12 13\n",
      "13 14\n",
      "14 15\n",
      "15 17\n"
     ]
    }
   ],
   "source": [
    "for j,xj in enumerate(U[U!=np.ma.masked]):\n",
    "    print( j,xj)"
   ]
  },
  {
   "cell_type": "code",
   "execution_count": 8,
   "metadata": {},
   "outputs": [
    {
     "data": {
      "text/plain": [
       "(18, 18)"
      ]
     },
     "execution_count": 8,
     "metadata": {},
     "output_type": "execute_result"
    }
   ],
   "source": [
    "D.shape"
   ]
  },
  {
   "cell_type": "code",
   "execution_count": 9,
   "metadata": {},
   "outputs": [
    {
     "name": "stdout",
     "output_type": "stream",
     "text": [
      "105.0\n",
      "93.0\n",
      "87.0\n",
      "93.0\n",
      "81.0\n",
      "87.0\n",
      "75.0\n",
      "69.0\n",
      "75.0\n",
      "71.0\n",
      "79.0\n",
      "93.0\n",
      "75.0\n",
      "77.0\n",
      "85.0\n",
      "89.0\n",
      "97.0\n",
      "111.0\n"
     ]
    }
   ],
   "source": [
    "for i in D: print(np.sum(i))"
   ]
  },
  {
   "cell_type": "code",
   "execution_count": 10,
   "metadata": {},
   "outputs": [
    {
     "name": "stdout",
     "output_type": "stream",
     "text": [
      "0 0\n",
      "1 1\n",
      "2 2\n",
      "3 3\n",
      "4 4\n",
      "5 5\n",
      "6 6\n",
      "7 --\n",
      "8 8\n",
      "9 9\n",
      "10 10\n",
      "11 11\n",
      "12 12\n",
      "13 13\n",
      "14 14\n",
      "15 15\n",
      "16 --\n",
      "17 17\n"
     ]
    }
   ],
   "source": [
    "for h,H in enumerate(U): print(h,H)"
   ]
  },
  {
   "cell_type": "code",
   "execution_count": 11,
   "metadata": {},
   "outputs": [
    {
     "data": {
      "text/plain": [
       "array([[3, 3],\n",
       "       [6, 7]])"
      ]
     },
     "execution_count": 11,
     "metadata": {},
     "output_type": "execute_result"
    }
   ],
   "source": [
    "S = [7,16]\n",
    "data[S]"
   ]
  },
  {
   "cell_type": "code",
   "execution_count": 12,
   "metadata": {},
   "outputs": [
    {
     "data": {
      "text/plain": [
       "(18, 2)"
      ]
     },
     "execution_count": 12,
     "metadata": {},
     "output_type": "execute_result"
    }
   ],
   "source": [
    "DD = D[S].T\n",
    "DD.shape"
   ]
  },
  {
   "cell_type": "code",
   "execution_count": 13,
   "metadata": {},
   "outputs": [
    {
     "data": {
      "text/plain": [
       "(0.0, array([0., 0.]))"
      ]
     },
     "execution_count": 13,
     "metadata": {},
     "output_type": "execute_result"
    }
   ],
   "source": [
    "np.min(DD), np.min(DD,axis=0)"
   ]
  },
  {
   "cell_type": "code",
   "execution_count": 14,
   "metadata": {},
   "outputs": [],
   "source": [
    "#DD"
   ]
  },
  {
   "cell_type": "code",
   "execution_count": 15,
   "metadata": {},
   "outputs": [],
   "source": [
    "#np.argsort(DD,axis=1)"
   ]
  },
  {
   "cell_type": "code",
   "execution_count": 16,
   "metadata": {},
   "outputs": [
    {
     "name": "stdout",
     "output_type": "stream",
     "text": [
      "BUILD [7, 16] [0 1 2 3 4 5 6 -- 8 9 10 11 12 13 14 15 -- 17]\n",
      "1 -26.0\n",
      "2 0.0\n",
      "SWAP [7, 9] [0 1 2 3 4 5 6 -- 8 -- 10 11 12 13 14 15 16 17] 2 1 8 9\n"
     ]
    }
   ],
   "source": [
    "my_estimator = myclusters.PAM(K=2,niter=1000,metric='precomputed')\n",
    "a,b,c=my_estimator.do_clustering(D=D)"
   ]
  },
  {
   "cell_type": "code",
   "execution_count": 17,
   "metadata": {},
   "outputs": [
    {
     "data": {
      "text/plain": [
       "(140.0, 166.0, 166.0, 150.0)"
      ]
     },
     "execution_count": 17,
     "metadata": {},
     "output_type": "execute_result"
    }
   ],
   "source": [
    "np.sum(D[[7,9]]),np.sum(D[[7,16]]),np.sum(D[[4,14]]),np.sum(D[[6,8]])"
   ]
  },
  {
   "cell_type": "code",
   "execution_count": null,
   "metadata": {},
   "outputs": [],
   "source": []
  }
 ],
 "metadata": {
  "kernelspec": {
   "display_name": "Python 3",
   "language": "python",
   "name": "python3"
  },
  "language_info": {
   "codemirror_mode": {
    "name": "ipython",
    "version": 3
   },
   "file_extension": ".py",
   "mimetype": "text/x-python",
   "name": "python",
   "nbconvert_exporter": "python",
   "pygments_lexer": "ipython3",
   "version": "3.6.8"
  }
 },
 "nbformat": 4,
 "nbformat_minor": 2
}
