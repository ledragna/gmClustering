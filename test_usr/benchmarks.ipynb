{
 "cells": [
  {
   "cell_type": "markdown",
   "metadata": {},
   "source": [
    "# RMSD vs Ultrafast Shape Recognition\n",
    "\n",
    "DPAP trajectory in ACN (solute only) as benchmark system"
   ]
  },
  {
   "cell_type": "code",
   "execution_count": 1,
   "metadata": {},
   "outputs": [],
   "source": [
    "import numpy as np\n",
    "import scipy as sp\n",
    "import matplotlib.pyplot as plt\n",
    "import sys\n",
    "import mdtraj\n",
    "import os\n",
    "\n",
    "%matplotlib inline"
   ]
  },
  {
   "cell_type": "code",
   "execution_count": 2,
   "metadata": {},
   "outputs": [],
   "source": [
    "import pyusr"
   ]
  },
  {
   "cell_type": "markdown",
   "metadata": {},
   "source": [
    "### set path and steps"
   ]
  },
  {
   "cell_type": "code",
   "execution_count": 3,
   "metadata": {},
   "outputs": [],
   "source": [
    "path_to_trj=\"/media/gmancini/09e994f6-73c1-425f-b9e7-19fb6b78e81d/perDaniele/dpap_acn\"\n",
    "do_ext=0\n",
    "do_fit=1\n",
    "do_rmsd=1"
   ]
  },
  {
   "cell_type": "markdown",
   "metadata": {},
   "source": [
    "### extract trajectory"
   ]
  },
  {
   "cell_type": "code",
   "execution_count": 4,
   "metadata": {},
   "outputs": [
    {
     "name": "stdout",
     "output_type": "stream",
     "text": [
      "/media/gmancini/09e994f6-73c1-425f-b9e7-19fb6b78e81d/perDaniele/dpap_acn\n"
     ]
    }
   ],
   "source": [
    "%%bash -s $path_to_trj $do_ext\n",
    "cd $1\n",
    "echo `pwd`\n",
    "if [ $2 -eq 1 ]; then\n",
    "#if on workstation\n",
    "    #source /usr/local/gromacs-4.6.6/bin/GMXRC\n",
    "\n",
    "    ## remove jumps across boundaries and skip every 50 ps\n",
    "    echo \"0\" > tmp\n",
    "    gmx trjconv -s testD1.tpr -f traj.xtc -pbc nojump -o nojump_50ps.xtc -skip 50 < tmp >& /dev/null\n",
    "    \n",
    "    ## center\n",
    "    echo \"1 0\" > tmp\n",
    "    gmx trjconv -s testD1.tpr -n index -f nojump_50ps.xtc -pbc mol -ur compact -center -o center_50ps.xtc < tmp >& /dev/null \n",
    "    \n",
    "    ## extract dpap\n",
    "    echo \"1\" > tmp\n",
    "    gmx trjconv -s testD1.tpr -n index -f center_50ps.xtc -o dpap_nofit_50ps.xtc < tmp >& /dev/null \n",
    "    \n",
    "    rm -f tmp\n",
    "fi"
   ]
  },
  {
   "cell_type": "markdown",
   "metadata": {},
   "source": [
    "### fit and calculate rmsd matrix"
   ]
  },
  {
   "cell_type": "code",
   "execution_count": 5,
   "metadata": {},
   "outputs": [
    {
     "name": "stdout",
     "output_type": "stream",
     "text": [
      "1 loop, best of 3: 232 ms per loop\n"
     ]
    }
   ],
   "source": [
    "%%timeit\n",
    "%%bash -s $path_to_trj $do_fit\n",
    "cd $1\n",
    "if [ $2 -eq 1 ]; then\n",
    "    echo \"0 0\" > tmp\n",
    "    gmx trjconv -s dpap.pdb -f dpap_nofit_50ps.xtc -o dpap_fit_50ps -fit rot+trans < tmp >& /dev/null\n",
    "    rm -f tmp\n",
    "fi"
   ]
  },
  {
   "cell_type": "code",
   "execution_count": 6,
   "metadata": {},
   "outputs": [
    {
     "name": "stdout",
     "output_type": "stream",
     "text": [
      "1 loop, best of 3: 22.3 s per loop\n"
     ]
    }
   ],
   "source": [
    "%%timeit\n",
    "%%bash -s $path_to_trj $do_rmsd\n",
    "cd $1\n",
    "if [ $2 -eq 1 ]; then\n",
    "    echo \"0 0\" > tmp\n",
    "    gmx rms -s dpap.pdb -f dpap_fit_50ps.xtc -bin -m -fit none < tmp >& /dev/null\n",
    "fi"
   ]
  },
  {
   "cell_type": "markdown",
   "metadata": {},
   "source": [
    "`real\t0m21.377s  \n",
    "user\t0m20.656s  \n",
    "sys\t0m1.076s  `"
   ]
  },
  {
   "cell_type": "code",
   "execution_count": 10,
   "metadata": {},
   "outputs": [],
   "source": [
    "%%bash -s $path_to_trj $do_rmsd\n",
    "mv rmsd.dat rmsd_hex.dat\n",
    "hexdump -v -e '10001/4 \" %06f\"' -e ' \"\\n\"' rmsd_hex.dat | sed '/[0-9]\\,/s/\\,/./g' > rmsd.dat\n",
    "rm -f \\#* rmsd.xpm"
   ]
  },
  {
   "cell_type": "code",
   "execution_count": 11,
   "metadata": {},
   "outputs": [
    {
     "name": "stdout",
     "output_type": "stream",
     "text": [
      "/media/gmancini/09e994f6-73c1-425f-b9e7-19fb6b78e81d/perDaniele/dpap_acn\n",
      "total 35G\r\n",
      "-rw-r--r-- 1 gmancini users    586K nov 25  2016 testD1.tpr\r\n",
      "-rw-r--r-- 1 gmancini users    1,3M nov 25  2016 confout.gro\r\n",
      "-rw-r--r-- 1 gmancini users     33G nov 25  2016 traj.xtc\r\n",
      "-rw-r--r-- 1 gmancini users    3,0K feb 26 19:58 dpap.pdb\r\n",
      "-rw-r--r-- 1 gmancini users    124M feb 28 14:24 ener_part1.edr\r\n",
      "-rw-r--r-- 1 gmancini users     38M feb 28 14:24 ener.part0002.edr\r\n",
      "drwxr-xr-x 2 gmancini users     20K mar  9 09:36 200frames\r\n",
      "-rw-rw-r-- 1 gmancini gmancini 198K mar 11 12:59 index.ndx\r\n",
      "-rw-rw-r-- 1 gmancini gmancini 692M mar 11 14:12 nojump_50ps.xtc\r\n",
      "-rw-rw-r-- 1 gmancini gmancini 639M mar 11 14:13 center_50ps.xtc\r\n",
      "-rw-rw-r-- 1 gmancini gmancini 2,2M mar 11 14:13 dpap_nofit_50ps.xtc\r\n",
      "-rw-rw-r-- 1 gmancini gmancini 2,2M mar 11 19:57 dpap_fit_50ps.xtc\r\n",
      "-rw-rw-r-- 1 gmancini gmancini    4 mar 11 19:58 tmp\r\n",
      "-rw-rw-r-- 1 gmancini gmancini 382M mar 11 19:58 rmsd_hex.dat\r\n",
      "-rw-rw-r-- 1 gmancini gmancini 264K mar 11 19:58 rmsd.xvg\r\n",
      "-rw-rw-r-- 1 gmancini gmancini 859M mar 11 20:00 rmsd.dat\r\n"
     ]
    }
   ],
   "source": [
    "%cd /media/gmancini/09e994f6-73c1-425f-b9e7-19fb6b78e81d/perDaniele/dpap_acn\n",
    "!ls -rtlh"
   ]
  },
  {
   "cell_type": "code",
   "execution_count": 12,
   "metadata": {},
   "outputs": [
    {
     "data": {
      "text/plain": [
       "((10001, 10001), (50015001,))"
      ]
     },
     "execution_count": 12,
     "metadata": {},
     "output_type": "execute_result"
    }
   ],
   "source": [
    "R = np.loadtxt(\"rmsd.dat\")\n",
    "RMSD = R[np.triu_indices(10001)]\n",
    "R = np.loadtxt(\"rmsd.dat\")\n",
    "R.shape, RMSD.shape"
   ]
  },
  {
   "cell_type": "code",
   "execution_count": 13,
   "metadata": {
    "collapsed": true
   },
   "outputs": [],
   "source": [
    "del R"
   ]
  },
  {
   "cell_type": "code",
   "execution_count": 14,
   "metadata": {},
   "outputs": [
    {
     "data": {
      "image/png": "[encoded data removed]",
      "text/plain": [
       "<matplotlib.figure.Figure at 0x7fe71e8eb358>"
      ]
     },
     "metadata": {},
     "output_type": "display_data"
    }
   ],
   "source": [
    "n,b,p = plt.hist(RMSD,bins=50)"
   ]
  },
  {
   "cell_type": "markdown",
   "metadata": {},
   "source": [
    "### USR matrix"
   ]
  },
  {
   "cell_type": "code",
   "execution_count": 15,
   "metadata": {},
   "outputs": [],
   "source": [
    "traj = mdtraj.load(\"dpap_nofit_50ps.xtc\",top=\"dpap.pdb\")\n",
    "weights = np.ones(traj.n_atoms)"
   ]
  },
  {
   "cell_type": "code",
   "execution_count": 21,
   "metadata": {
    "collapsed": true
   },
   "outputs": [],
   "source": [
    "USR = np.zeros((10001,10001))"
   ]
  },
  {
   "cell_type": "code",
   "execution_count": 22,
   "metadata": {},
   "outputs": [
    {
     "name": "stdout",
     "output_type": "stream",
     "text": [
      "1 loop, best of 3: 400 ms per loop\n"
     ]
    }
   ],
   "source": [
    "%%timeit\n",
    "pyusr.pyUSRmat(traj.xyz,USR,weights,1)"
   ]
  },
  {
   "cell_type": "code",
   "execution_count": 46,
   "metadata": {
    "collapsed": true
   },
   "outputs": [],
   "source": [
    "np.savetxt(\"usrmat_dpap_50ps\",USR)"
   ]
  },
  {
   "cell_type": "code",
   "execution_count": 24,
   "metadata": {},
   "outputs": [
    {
     "data": {
      "text/plain": [
       "(50015001,)"
      ]
     },
     "execution_count": 24,
     "metadata": {},
     "output_type": "execute_result"
    }
   ],
   "source": [
    "USR = USR[np.triu_indices(10001)]\n",
    "USR.shape"
   ]
  },
  {
   "cell_type": "code",
   "execution_count": 25,
   "metadata": {
    "scrolled": true
   },
   "outputs": [
    {
     "data": {
      "image/png": "[encoded data removed]",
      "text/plain": [
       "<matplotlib.figure.Figure at 0x7fe6700a2780>"
      ]
     },
     "metadata": {},
     "output_type": "display_data"
    }
   ],
   "source": [
    "n1,b,p = plt.hist(USR,bins=50)"
   ]
  },
  {
   "cell_type": "code",
   "execution_count": 38,
   "metadata": {
    "collapsed": true
   },
   "outputs": [],
   "source": [
    "del USR"
   ]
  },
  {
   "cell_type": "code",
   "execution_count": 39,
   "metadata": {},
   "outputs": [],
   "source": [
    "traj_fit = mdtraj.load(\"dpap_fit_50ps.xtc\",top=\"dpap.pdb\")"
   ]
  },
  {
   "cell_type": "code",
   "execution_count": 40,
   "metadata": {
    "collapsed": true
   },
   "outputs": [],
   "source": [
    "USR = np.zeros((10001,10001))"
   ]
  },
  {
   "cell_type": "code",
   "execution_count": 41,
   "metadata": {},
   "outputs": [
    {
     "name": "stdout",
     "output_type": "stream",
     "text": [
      "1 loop, best of 3: 402 ms per loop\n"
     ]
    }
   ],
   "source": [
    "%%timeit\n",
    "pyusr.pyUSRmat(traj.xyz,USR,weights,1)"
   ]
  },
  {
   "cell_type": "code",
   "execution_count": 42,
   "metadata": {
    "collapsed": true
   },
   "outputs": [],
   "source": [
    "USR = USR[np.triu_indices(10001)]"
   ]
  },
  {
   "cell_type": "code",
   "execution_count": 43,
   "metadata": {
    "scrolled": true
   },
   "outputs": [
    {
     "data": {
      "image/png": "[encoded data removed]",
      "text/plain": [
       "<matplotlib.figure.Figure at 0x7fe7146249b0>"
      ]
     },
     "metadata": {},
     "output_type": "display_data"
    }
   ],
   "source": [
    "n2,b,p = plt.hist(USR,bins=50)"
   ]
  },
  {
   "cell_type": "code",
   "execution_count": 44,
   "metadata": {},
   "outputs": [
    {
     "data": {
      "text/plain": [
       "(50,)"
      ]
     },
     "execution_count": 44,
     "metadata": {},
     "output_type": "execute_result"
    }
   ],
   "source": [
    "B = np.array([0.5*(b[i]+b[i+1]) for i in range(len(b)-1)])\n",
    "B.shape"
   ]
  },
  {
   "cell_type": "code",
   "execution_count": 45,
   "metadata": {},
   "outputs": [
    {
     "data": {
      "text/plain": [
       "[<matplotlib.lines.Line2D at 0x7fe67d86c470>,\n",
       " <matplotlib.lines.Line2D at 0x7fe67d82ef28>]"
      ]
     },
     "execution_count": 45,
     "metadata": {},
     "output_type": "execute_result"
    },
    {
     "data": {
      "image/png": "[encoded data removed]",
      "text/plain": [
       "<matplotlib.figure.Figure at 0x7fe714163d68>"
      ]
     },
     "metadata": {},
     "output_type": "display_data"
    }
   ],
   "source": [
    "plt.plot(B,n1,B,n2)"
   ]
  },
  {
   "cell_type": "code",
   "execution_count": null,
   "metadata": {
    "collapsed": true
   },
   "outputs": [],
   "source": []
  }
 ],
 "metadata": {
  "kernelspec": {
   "display_name": "Python 3",
   "language": "python",
   "name": "python3"
  },
  "language_info": {
   "codemirror_mode": {
    "name": "ipython",
    "version": 3
   },
   "file_extension": ".py",
   "mimetype": "text/x-python",
   "name": "python",
   "nbconvert_exporter": "python",
   "pygments_lexer": "ipython3",
   "version": "3.6.3"
  }
 },
 "nbformat": 4,
 "nbformat_minor": 2
}
